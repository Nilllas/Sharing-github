{
 "cells": [
  {
   "cell_type": "code",
   "execution_count": 4,
   "metadata": {},
   "outputs": [
    {
     "name": "stdout",
     "output_type": "stream",
     "text": [
      "Looking in indexes: https://pypi.org/simple, https://www.piwheels.org/simple\n",
      "Collecting tensorflow==1.8.0 from https://github.com/lhelontra/tensorflow-on-arm/releases/download/v1.8.0/tensorflow-1.8.0-cp35-none-linux_armv7l.whl\n",
      "\u001b[?25l  Downloading https://github.com/lhelontra/tensorflow-on-arm/releases/download/v1.8.0/tensorflow-1.8.0-cp35-none-linux_armv7l.whl (53.4MB)\n",
      "\u001b[K    100% |################################| 53.4MB 253kB/s ta 0:00:011 2% |                                | 1.2MB 750kB/s eta 0:01:10    11% |###                             | 6.3MB 3.0MB/s eta 0:00:16    12% |###                             | 6.6MB 3.1MB/s eta 0:00:16    13% |####                            | 7.0MB 4.5MB/s eta 0:00:11    15% |#####                           | 8.5MB 1.9MB/s eta 0:00:24    16% |#####                           | 8.7MB 2.9MB/s eta 0:00:16    17% |#####                           | 9.6MB 3.7MB/s eta 0:00:12    18% |#####                           | 9.8MB 5.9MB/s eta 0:00:08    19% |######                          | 10.2MB 5.4MB/s eta 0:00:08    22% |#######                         | 11.8MB 2.8MB/s eta 0:00:16    23% |#######                         | 12.6MB 4.7MB/s eta 0:00:09    27% |########                        | 14.5MB 3.9MB/s eta 0:00:11    32% |##########                      | 17.4MB 4.0MB/s eta 0:00:09    32% |##########                      | 17.6MB 3.2MB/s eta 0:00:12    34% |###########                     | 18.4MB 5.6MB/s eta 0:00:07    34% |###########                     | 18.6MB 2.7MB/s eta 0:00:13    37% |###########                     | 19.9MB 3.9MB/s eta 0:00:09    46% |##############                  | 24.7MB 5.1MB/s eta 0:00:06    46% |##############                  | 25.0MB 4.4MB/s eta 0:00:07    49% |###############                 | 26.2MB 7.2MB/s eta 0:00:04    51% |################                | 27.3MB 4.2MB/s eta 0:00:07    54% |#################               | 29.2MB 3.8MB/s eta 0:00:07    61% |###################             | 32.7MB 4.1MB/s eta 0:00:06    82% |##########################      | 44.1MB 6.0MB/s eta 0:00:02    88% |############################    | 47.1MB 6.4MB/s eta 0:00:01    89% |############################    | 48.1MB 4.0MB/s eta 0:00:02    93% |#############################   | 50.0MB 5.6MB/s eta 0:00:01    95% |##############################  | 50.9MB 2.3MB/s eta 0:00:02    99% |############################### | 53.0MB 8.7MB/s eta 0:00:01\n",
      "\u001b[?25hRequirement already satisfied: six>=1.10.0 in /home/pi/.venv/jns/lib/python3.5/site-packages (from tensorflow==1.8.0) (1.12.0)\n",
      "Requirement already satisfied: numpy>=1.13.3 in /home/pi/.venv/jns/lib/python3.5/site-packages (from tensorflow==1.8.0) (1.16.2)\n",
      "Collecting tensorboard<1.9.0,>=1.8.0 (from tensorflow==1.8.0)\n",
      "\u001b[?25l  Downloading https://files.pythonhosted.org/packages/59/a6/0ae6092b7542cfedba6b2a1c9b8dceaf278238c39484f3ba03b03f07803c/tensorboard-1.8.0-py3-none-any.whl (3.1MB)\n",
      "\u001b[K    100% |################################| 3.1MB 1.9MB/s ta 0:00:01    82% |##########################      | 2.6MB 3.5MB/s eta 0:00:01\n",
      "\u001b[?25hRequirement already satisfied: wheel>=0.26 in /home/pi/.venv/jns/lib/python3.5/site-packages (from tensorflow==1.8.0) (0.33.1)\n",
      "Requirement already satisfied: astor>=0.6.0 in /home/pi/.venv/jns/lib/python3.5/site-packages (from tensorflow==1.8.0) (0.7.1)\n",
      "Requirement already satisfied: grpcio>=1.8.6 in /home/pi/.venv/jns/lib/python3.5/site-packages (from tensorflow==1.8.0) (1.19.0)\n",
      "Requirement already satisfied: gast>=0.2.0 in /home/pi/.venv/jns/lib/python3.5/site-packages (from tensorflow==1.8.0) (0.2.2)\n",
      "Requirement already satisfied: termcolor>=1.1.0 in /home/pi/.venv/jns/lib/python3.5/site-packages (from tensorflow==1.8.0) (1.1.0)\n",
      "Requirement already satisfied: absl-py>=0.1.6 in /home/pi/.venv/jns/lib/python3.5/site-packages (from tensorflow==1.8.0) (0.7.1)\n",
      "Requirement already satisfied: protobuf>=3.4.0 in /home/pi/.venv/jns/lib/python3.5/site-packages (from tensorflow==1.8.0) (3.7.0)\n",
      "Collecting bleach==1.5.0 (from tensorboard<1.9.0,>=1.8.0->tensorflow==1.8.0)\n",
      "  Downloading https://files.pythonhosted.org/packages/33/70/86c5fec937ea4964184d4d6c4f0b9551564f821e1c3575907639036d9b90/bleach-1.5.0-py2.py3-none-any.whl\n",
      "Requirement already satisfied: werkzeug>=0.11.10 in /home/pi/.venv/jns/lib/python3.5/site-packages (from tensorboard<1.9.0,>=1.8.0->tensorflow==1.8.0) (0.15.1)\n",
      "Collecting html5lib==0.9999999 (from tensorboard<1.9.0,>=1.8.0->tensorflow==1.8.0)\n",
      "\u001b[?25l  Downloading https://www.piwheels.org/simple/html5lib/html5lib-0.9999999-py3-none-any.whl (111kB)\n",
      "\u001b[K    100% |################################| 112kB 266kB/s ta 0:00:01\n",
      "\u001b[?25hRequirement already satisfied: markdown>=2.6.8 in /home/pi/.venv/jns/lib/python3.5/site-packages (from tensorboard<1.9.0,>=1.8.0->tensorflow==1.8.0) (3.0.1)\n",
      "Requirement already satisfied: setuptools in /home/pi/.venv/jns/lib/python3.5/site-packages (from protobuf>=3.4.0->tensorflow==1.8.0) (33.1.1)\n",
      "Installing collected packages: html5lib, bleach, tensorboard, tensorflow\n",
      "  Found existing installation: html5lib 1.0.1\n",
      "    Uninstalling html5lib-1.0.1:\n",
      "      Successfully uninstalled html5lib-1.0.1\n",
      "  Found existing installation: bleach 3.1.0\n",
      "    Uninstalling bleach-3.1.0:\n",
      "      Successfully uninstalled bleach-3.1.0\n",
      "  Found existing installation: tensorboard 1.13.1\n",
      "    Uninstalling tensorboard-1.13.1:\n",
      "      Successfully uninstalled tensorboard-1.13.1\n",
      "  Found existing installation: tensorflow 1.13.1\n",
      "    Uninstalling tensorflow-1.13.1:\n",
      "      Successfully uninstalled tensorflow-1.13.1\n",
      "Successfully installed bleach-1.5.0 html5lib-0.9999999 tensorboard-1.8.0 tensorflow-1.8.0\n"
     ]
    }
   ],
   "source": [
    "!pip install https://github.com/lhelontra/tensorflow-on-arm/releases/download/v1.8.0/tensorflow-1.8.0-cp35-none-linux_armv7l.whl"
   ]
  },
  {
   "cell_type": "code",
   "execution_count": 1,
   "metadata": {},
   "outputs": [
    {
     "name": "stdout",
     "output_type": "stream",
     "text": [
      "pip 19.0.3 from /home/pi/.venv/jns/lib/python3.5/site-packages/pip (python 3.5)\r\n"
     ]
    }
   ],
   "source": [
    "!pip --version"
   ]
  },
  {
   "cell_type": "code",
   "execution_count": 9,
   "metadata": {},
   "outputs": [
    {
     "name": "stdout",
     "output_type": "stream",
     "text": [
      "b'Hello, TensorFlow!'\n"
     ]
    }
   ],
   "source": [
    "\n",
    "import tensorflow as tf\n",
    "hello = tf.constant('Hello, TensorFlow!')\n",
    "sess = tf.Session()\n",
    "print(sess.run(hello))\n"
   ]
  },
  {
   "cell_type": "code",
   "execution_count": 8,
   "metadata": {},
   "outputs": [
    {
     "name": "stdout",
     "output_type": "stream",
     "text": [
      "Reading package lists... Done\n",
      "Building dependency tree       \n",
      "Reading state information... Done\n",
      "libatlas-base-dev is already the newest version (3.10.3-1+rpi1).\n",
      "0 upgraded, 0 newly installed, 0 to remove and 0 not upgraded.\n",
      "Looking in indexes: https://pypi.org/simple, https://www.piwheels.org/simple\n",
      "Requirement already satisfied: tensorflow in /home/pi/.venv/jns/lib/python3.5/site-packages (1.13.1)\n",
      "Requirement already satisfied: protobuf>=3.6.1 in /home/pi/.venv/jns/lib/python3.5/site-packages (from tensorflow) (3.7.0)\n",
      "Requirement already satisfied: numpy>=1.13.3 in /home/pi/.venv/jns/lib/python3.5/site-packages (from tensorflow) (1.16.2)\n",
      "Requirement already satisfied: termcolor>=1.1.0 in /home/pi/.venv/jns/lib/python3.5/site-packages (from tensorflow) (1.1.0)\n",
      "Requirement already satisfied: grpcio>=1.8.6 in /home/pi/.venv/jns/lib/python3.5/site-packages (from tensorflow) (1.19.0)\n",
      "Requirement already satisfied: absl-py>=0.1.6 in /home/pi/.venv/jns/lib/python3.5/site-packages (from tensorflow) (0.7.1)\n",
      "Requirement already satisfied: tensorflow-estimator<1.14.0rc0,>=1.13.0 in /home/pi/.venv/jns/lib/python3.5/site-packages (from tensorflow) (1.13.0)\n",
      "Requirement already satisfied: astor>=0.6.0 in /home/pi/.venv/jns/lib/python3.5/site-packages (from tensorflow) (0.7.1)\n",
      "Requirement already satisfied: gast>=0.2.0 in /home/pi/.venv/jns/lib/python3.5/site-packages (from tensorflow) (0.2.2)\n",
      "Requirement already satisfied: keras-applications>=1.0.6 in /home/pi/.venv/jns/lib/python3.5/site-packages (from tensorflow) (1.0.7)\n",
      "Requirement already satisfied: keras-preprocessing>=1.0.5 in /home/pi/.venv/jns/lib/python3.5/site-packages (from tensorflow) (1.0.9)\n",
      "Requirement already satisfied: tensorboard<1.14.0,>=1.13.0 in /home/pi/.venv/jns/lib/python3.5/site-packages (from tensorflow) (1.13.1)\n",
      "Requirement already satisfied: wheel>=0.26 in /home/pi/.venv/jns/lib/python3.5/site-packages (from tensorflow) (0.33.1)\n",
      "Requirement already satisfied: six>=1.10.0 in /home/pi/.venv/jns/lib/python3.5/site-packages (from tensorflow) (1.12.0)\n",
      "Requirement already satisfied: setuptools in /home/pi/.venv/jns/lib/python3.5/site-packages (from protobuf>=3.6.1->tensorflow) (33.1.1)\n",
      "Requirement already satisfied: mock>=2.0.0 in /home/pi/.venv/jns/lib/python3.5/site-packages (from tensorflow-estimator<1.14.0rc0,>=1.13.0->tensorflow) (2.0.0)\n",
      "Requirement already satisfied: h5py in /home/pi/.venv/jns/lib/python3.5/site-packages (from keras-applications>=1.0.6->tensorflow) (2.9.0)\n",
      "Requirement already satisfied: werkzeug>=0.11.15 in /home/pi/.venv/jns/lib/python3.5/site-packages (from tensorboard<1.14.0,>=1.13.0->tensorflow) (0.15.1)\n",
      "Requirement already satisfied: markdown>=2.6.8 in /home/pi/.venv/jns/lib/python3.5/site-packages (from tensorboard<1.14.0,>=1.13.0->tensorflow) (3.0.1)\n",
      "Requirement already satisfied: pbr>=0.11 in /home/pi/.venv/jns/lib/python3.5/site-packages (from mock>=2.0.0->tensorflow-estimator<1.14.0rc0,>=1.13.0->tensorflow) (5.1.3)\n"
     ]
    }
   ],
   "source": [
    "!sudo apt install libatlas-base-dev\n",
    "!pip3 install tensorflow"
   ]
  },
  {
   "cell_type": "code",
   "execution_count": 7,
   "metadata": {
    "scrolled": true
   },
   "outputs": [
    {
     "name": "stdout",
     "output_type": "stream",
     "text": [
      "Looking in indexes: https://pypi.org/simple, https://www.piwheels.org/simple\n",
      "Requirement already up-to-date: pip in /home/pi/.venv/jns/lib/python3.5/site-packages (19.0.3)\n",
      "Note: you may need to restart the kernel to use updated packages.\n"
     ]
    }
   ],
   "source": [
    "pip install --upgrade pip"
   ]
  },
  {
   "cell_type": "code",
   "execution_count": 6,
   "metadata": {},
   "outputs": [
    {
     "name": "stdout",
     "output_type": "stream",
     "text": [
      "\u001b[31mtensorflow-1.2.1-cp35-cp35m-linux_x86_64.whl is not a supported wheel on this platform.\u001b[0m\r\n"
     ]
    }
   ],
   "source": [
    "!pip install --ignore-installed --upgrade http://willem.engen.nl/tmp/tensorflow-1.2.1-cp35-cp35m-linux_x86_64.whl --user"
   ]
  },
  {
   "cell_type": "code",
   "execution_count": 2,
   "metadata": {},
   "outputs": [
    {
     "name": "stdout",
     "output_type": "stream",
     "text": [
      "tensorflow               1.13.1  \r\n",
      "tensorflow-estimator     1.13.0  \r\n"
     ]
    }
   ],
   "source": [
    "!pip list | grep tensorflow\n",
    "\n"
   ]
  },
  {
   "cell_type": "code",
   "execution_count": 3,
   "metadata": {},
   "outputs": [
    {
     "name": "stderr",
     "output_type": "stream",
     "text": [
      "/usr/lib/python3.5/importlib/_bootstrap.py:222: RuntimeWarning: compiletime version 3.4 of module 'tensorflow.python.framework.fast_tensor_util' does not match runtime version 3.5\n",
      "  return f(*args, **kwds)\n",
      "/usr/lib/python3.5/importlib/_bootstrap.py:222: RuntimeWarning: builtins.type size changed, may indicate binary incompatibility. Expected 432, got 412\n",
      "  return f(*args, **kwds)\n"
     ]
    },
    {
     "data": {
      "text/plain": [
       "'1.13.1'"
      ]
     },
     "execution_count": 3,
     "metadata": {},
     "output_type": "execute_result"
    }
   ],
   "source": [
    " import tensorflow as tf\n",
    "    \n",
    " tf.VERSION"
   ]
  },
  {
   "cell_type": "code",
   "execution_count": 4,
   "metadata": {},
   "outputs": [
    {
     "name": "stderr",
     "output_type": "stream",
     "text": [
      "Using TensorFlow backend.\n"
     ]
    },
    {
     "data": {
      "text/plain": [
       "'2.2.4'"
      ]
     },
     "execution_count": 4,
     "metadata": {},
     "output_type": "execute_result"
    }
   ],
   "source": [
    "import keras as k\n",
    "k.__version__"
   ]
  },
  {
   "cell_type": "code",
   "execution_count": 4,
   "metadata": {
    "scrolled": true
   },
   "outputs": [
    {
     "name": "stdout",
     "output_type": "stream",
     "text": [
      "Name: tensorflow\r\n",
      "Version: 1.13.1\r\n",
      "Summary: TensorFlow is an open source machine learning framework for everyone.\r\n",
      "Home-page: https://www.tensorflow.org/\r\n",
      "Author: Google Inc.\r\n",
      "Author-email: opensource@google.com\r\n",
      "License: Apache 2.0\r\n",
      "Location: /home/pi/.venv/jns/lib/python3.5/site-packages\r\n",
      "Requires: astor, grpcio, six, termcolor, tensorflow-estimator, absl-py, wheel, tensorboard, keras-preprocessing, protobuf, gast, numpy, keras-applications\r\n",
      "Required-by: \r\n"
     ]
    }
   ],
   "source": [
    "!pip show tensorflow"
   ]
  },
  {
   "cell_type": "code",
   "execution_count": 10,
   "metadata": {
    "scrolled": true
   },
   "outputs": [
    {
     "name": "stdout",
     "output_type": "stream",
     "text": [
      "Cloning into 'tensorflow'...\n",
      "remote: Enumerating objects: 3011, done.\u001b[K\n",
      "remote: Counting objects: 100% (3011/3011), done.\u001b[K\n",
      "remote: Compressing objects: 100% (1221/1221), done.\u001b[K\n",
      "remote: Total 552787 (delta 1921), reused 2327 (delta 1774), pack-reused 549776\u001b[K\n",
      "Receiving objects: 100% (552787/552787), 326.61 MiB | 2.58 MiB/s, done.\n",
      "Resolving deltas: 100% (445765/445765), done.\n",
      "Checking out files: 100% (16496/16496), done.\n"
     ]
    }
   ],
   "source": [
    "!git clone https://github.com/tensorflow/tensorflow.git"
   ]
  },
  {
   "cell_type": "code",
   "execution_count": 16,
   "metadata": {},
   "outputs": [
    {
     "name": "stdout",
     "output_type": "stream",
     "text": [
      "Reading package lists... Done\n",
      "Building dependency tree       \n",
      "Reading state information... Done\n",
      "Calculating upgrade... Done\n",
      "The following packages will be upgraded:\n",
      "  libasound2 libasound2-data\n",
      "2 upgraded, 0 newly installed, 0 to remove and 0 not upgraded.\n",
      "Need to get 615 kB of archives.\n",
      "After this operation, 1,024 B of additional disk space will be used.\n",
      "Get:1 http://archive.raspberrypi.org/debian stretch/main armhf libasound2 armhf 1.1.3-5+rpt4 [441 kB]\n",
      "Get:2 http://archive.raspberrypi.org/debian stretch/main armhf libasound2-data all 1.1.3-5+rpt4 [173 kB]\n",
      "Fetched 615 kB in 1s (605 kB/s)      \n",
      "apt-listchanges: Reading changelogs...\n",
      "(Reading database ... 77851 files and directories currently installed.)\n",
      "Preparing to unpack .../libasound2_1.1.3-5+rpt4_armhf.deb ...\n",
      "Unpacking libasound2:armhf (1.1.3-5+rpt4) over (1.1.3-5+rpi3) ...\n",
      "Preparing to unpack .../libasound2-data_1.1.3-5+rpt4_all.deb ...\n",
      "Unpacking libasound2-data (1.1.3-5+rpt4) over (1.1.3-5+rpi3) ...\n",
      "Setting up libasound2-data (1.1.3-5+rpt4) ...\n",
      "Setting up libasound2:armhf (1.1.3-5+rpt4) ...\n",
      "Processing triggers for libc-bin (2.24-11+deb9u4) ...\n"
     ]
    }
   ],
   "source": [
    "!sudo apt-get upgrade -y"
   ]
  }
 ],
 "metadata": {
  "kernelspec": {
   "display_name": "Python 3",
   "language": "python",
   "name": "python3"
  },
  "language_info": {
   "codemirror_mode": {
    "name": "ipython",
    "version": 3
   },
   "file_extension": ".py",
   "mimetype": "text/x-python",
   "name": "python",
   "nbconvert_exporter": "python",
   "pygments_lexer": "ipython3",
   "version": "3.5.3"
  }
 },
 "nbformat": 4,
 "nbformat_minor": 2
}
