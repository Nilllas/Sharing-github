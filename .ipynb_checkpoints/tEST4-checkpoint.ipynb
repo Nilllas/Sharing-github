{
 "cells": [
  {
   "cell_type": "code",
   "execution_count": 1,
   "metadata": {},
   "outputs": [
    {
     "name": "stderr",
     "output_type": "stream",
     "text": [
      "Using TensorFlow backend.\n"
     ]
    }
   ],
   "source": [
    "from pandas_datareader import data\n",
    "import pandas as pd\n",
    "import quandl\n",
    "import matplotlib.pyplot as plt\n",
    "import datetime\n",
    "import numpy as np\n",
    "import tensorflow as tf\n",
    "import keras"
   ]
  },
  {
   "cell_type": "code",
   "execution_count": 11,
   "metadata": {},
   "outputs": [
    {
     "data": {
      "text/html": [
       "<div>\n",
       "<style scoped>\n",
       "    .dataframe tbody tr th:only-of-type {\n",
       "        vertical-align: middle;\n",
       "    }\n",
       "\n",
       "    .dataframe tbody tr th {\n",
       "        vertical-align: top;\n",
       "    }\n",
       "\n",
       "    .dataframe thead th {\n",
       "        text-align: right;\n",
       "    }\n",
       "</style>\n",
       "<table border=\"1\" class=\"dataframe\">\n",
       "  <thead>\n",
       "    <tr style=\"text-align: right;\">\n",
       "      <th></th>\n",
       "      <th>Open</th>\n",
       "      <th>High</th>\n",
       "      <th>Low</th>\n",
       "      <th>Close</th>\n",
       "      <th>Volume</th>\n",
       "      <th>Ex-Dividend</th>\n",
       "      <th>Split Ratio</th>\n",
       "      <th>Adj. Open</th>\n",
       "      <th>Adj. High</th>\n",
       "      <th>Adj. Low</th>\n",
       "      <th>Adj. Close</th>\n",
       "      <th>Adj. Volume</th>\n",
       "    </tr>\n",
       "    <tr>\n",
       "      <th>Date</th>\n",
       "      <th></th>\n",
       "      <th></th>\n",
       "      <th></th>\n",
       "      <th></th>\n",
       "      <th></th>\n",
       "      <th></th>\n",
       "      <th></th>\n",
       "      <th></th>\n",
       "      <th></th>\n",
       "      <th></th>\n",
       "      <th></th>\n",
       "      <th></th>\n",
       "    </tr>\n",
       "  </thead>\n",
       "  <tbody>\n",
       "  </tbody>\n",
       "</table>\n",
       "</div>"
      ],
      "text/plain": [
       "Empty DataFrame\n",
       "Columns: [Open, High, Low, Close, Volume, Ex-Dividend, Split Ratio, Adj. Open, Adj. High, Adj. Low, Adj. Close, Adj. Volume]\n",
       "Index: []"
      ]
     },
     "execution_count": 11,
     "metadata": {},
     "output_type": "execute_result"
    }
   ],
   "source": [
    "# We will look at stock prices over the past year, starting at January 1, 2016\n",
    "start = datetime.datetime(2018,12,1)\n",
    "end = datetime.datetime(2019,2,28) #date.today()\n",
    " \n",
    "# Let's get Apple stock data; Apple's ticker symbol is AAPL\n",
    "# First argument is the series we want, second is the source (\"yahoo\" for Yahoo! Finance), third is the start date, fourth is the end date\n",
    "s = \"NVDA\"\n",
    "dataset = quandl.get(\"WIKI/\" + s, start_date=start, end_date=end)\n",
    " \n",
    "type(dataset)\n",
    "\n",
    "dataset.head()\n",
    "\n",
    "\n"
   ]
  },
  {
   "cell_type": "code",
   "execution_count": 14,
   "metadata": {},
   "outputs": [
    {
     "data": {
      "text/html": [
       "<div>\n",
       "<style scoped>\n",
       "    .dataframe tbody tr th:only-of-type {\n",
       "        vertical-align: middle;\n",
       "    }\n",
       "\n",
       "    .dataframe tbody tr th {\n",
       "        vertical-align: top;\n",
       "    }\n",
       "\n",
       "    .dataframe thead tr th {\n",
       "        text-align: left;\n",
       "    }\n",
       "\n",
       "    .dataframe thead tr:last-of-type th {\n",
       "        text-align: right;\n",
       "    }\n",
       "</style>\n",
       "<table border=\"1\" class=\"dataframe\">\n",
       "  <thead>\n",
       "    <tr>\n",
       "      <th>Attributes</th>\n",
       "      <th>High</th>\n",
       "      <th>Low</th>\n",
       "      <th>Open</th>\n",
       "      <th>Close</th>\n",
       "      <th>Volume</th>\n",
       "      <th>Adj Close</th>\n",
       "    </tr>\n",
       "    <tr>\n",
       "      <th>Symbols</th>\n",
       "      <th>AAPL</th>\n",
       "      <th>AAPL</th>\n",
       "      <th>AAPL</th>\n",
       "      <th>AAPL</th>\n",
       "      <th>AAPL</th>\n",
       "      <th>AAPL</th>\n",
       "    </tr>\n",
       "    <tr>\n",
       "      <th>Date</th>\n",
       "      <th></th>\n",
       "      <th></th>\n",
       "      <th></th>\n",
       "      <th></th>\n",
       "      <th></th>\n",
       "      <th></th>\n",
       "    </tr>\n",
       "  </thead>\n",
       "  <tbody>\n",
       "    <tr>\n",
       "      <th>2012-01-03</th>\n",
       "      <td>58.928570</td>\n",
       "      <td>58.428570</td>\n",
       "      <td>58.485714</td>\n",
       "      <td>58.747143</td>\n",
       "      <td>75555200.0</td>\n",
       "      <td>39.172771</td>\n",
       "    </tr>\n",
       "    <tr>\n",
       "      <th>2012-01-04</th>\n",
       "      <td>59.240002</td>\n",
       "      <td>58.468571</td>\n",
       "      <td>58.571430</td>\n",
       "      <td>59.062859</td>\n",
       "      <td>65005500.0</td>\n",
       "      <td>39.383293</td>\n",
       "    </tr>\n",
       "    <tr>\n",
       "      <th>2012-01-05</th>\n",
       "      <td>59.792858</td>\n",
       "      <td>58.952858</td>\n",
       "      <td>59.278572</td>\n",
       "      <td>59.718571</td>\n",
       "      <td>67817400.0</td>\n",
       "      <td>39.820515</td>\n",
       "    </tr>\n",
       "    <tr>\n",
       "      <th>2012-01-06</th>\n",
       "      <td>60.392857</td>\n",
       "      <td>59.888573</td>\n",
       "      <td>59.967144</td>\n",
       "      <td>60.342857</td>\n",
       "      <td>79573200.0</td>\n",
       "      <td>40.236809</td>\n",
       "    </tr>\n",
       "    <tr>\n",
       "      <th>2012-01-09</th>\n",
       "      <td>61.107143</td>\n",
       "      <td>60.192856</td>\n",
       "      <td>60.785713</td>\n",
       "      <td>60.247143</td>\n",
       "      <td>98506100.0</td>\n",
       "      <td>40.172970</td>\n",
       "    </tr>\n",
       "  </tbody>\n",
       "</table>\n",
       "</div>"
      ],
      "text/plain": [
       "Attributes       High        Low       Open      Close      Volume  Adj Close\n",
       "Symbols          AAPL       AAPL       AAPL       AAPL        AAPL       AAPL\n",
       "Date                                                                         \n",
       "2012-01-03  58.928570  58.428570  58.485714  58.747143  75555200.0  39.172771\n",
       "2012-01-04  59.240002  58.468571  58.571430  59.062859  65005500.0  39.383293\n",
       "2012-01-05  59.792858  58.952858  59.278572  59.718571  67817400.0  39.820515\n",
       "2012-01-06  60.392857  59.888573  59.967144  60.342857  79573200.0  40.236809\n",
       "2012-01-09  61.107143  60.192856  60.785713  60.247143  98506100.0  40.172970"
      ]
     },
     "execution_count": 14,
     "metadata": {},
     "output_type": "execute_result"
    }
   ],
   "source": [
    "# Define the instruments to download. We would like to see Apple, Microsoft and the S&P500 index.\n",
    "ticker = ['AAPL'] #, 'MSFT', '^GSPC']\n",
    "start_date = datetime.datetime(2012,1,1)\n",
    "end_date = datetime.datetime(2019,3,1) #today() #datetime(2016,12,30) #date.today()\n",
    "\n",
    "# User pandas_reader.data.DataReader to load the desired data. As simple as that.\n",
    "dataset = data.DataReader(ticker, 'yahoo', start_date, end_date)\n",
    "\n",
    "type(dataset)\n",
    "\n",
    "dataset.head()\n",
    "\n",
    "#print(panel_data)\n",
    "# p_d = panel_data.iloc[:, 1:2].values\n",
    "#panel_data.head()"
   ]
  },
  {
   "cell_type": "code",
   "execution_count": 15,
   "metadata": {
    "scrolled": false
   },
   "outputs": [
    {
     "data": {
      "text/plain": [
       "Attributes  Symbols\n",
       "High        AAPL       False\n",
       "Low         AAPL       False\n",
       "Open        AAPL       False\n",
       "Close       AAPL       False\n",
       "Volume      AAPL       False\n",
       "Adj Close   AAPL       False\n",
       "dtype: bool"
      ]
     },
     "execution_count": 15,
     "metadata": {},
     "output_type": "execute_result"
    }
   ],
   "source": [
    "dataset.isna().any()\n"
   ]
  },
  {
   "cell_type": "code",
   "execution_count": 16,
   "metadata": {},
   "outputs": [
    {
     "name": "stdout",
     "output_type": "stream",
     "text": [
      "<class 'pandas.core.frame.DataFrame'>\n",
      "DatetimeIndex: 1801 entries, 2012-01-03 to 2019-03-01\n",
      "Data columns (total 6 columns):\n",
      "(High, AAPL)         1801 non-null float64\n",
      "(Low, AAPL)          1801 non-null float64\n",
      "(Open, AAPL)         1801 non-null float64\n",
      "(Close, AAPL)        1801 non-null float64\n",
      "(Volume, AAPL)       1801 non-null float64\n",
      "(Adj Close, AAPL)    1801 non-null float64\n",
      "dtypes: float64(6)\n",
      "memory usage: 98.5 KB\n"
     ]
    }
   ],
   "source": [
    "dataset.info()"
   ]
  },
  {
   "cell_type": "code",
   "execution_count": 10,
   "metadata": {},
   "outputs": [
    {
     "data": {
      "text/plain": [
       "<matplotlib.axes._subplots.AxesSubplot at 0x66dce490>"
      ]
     },
     "execution_count": 10,
     "metadata": {},
     "output_type": "execute_result"
    },
    {
     "data": {
      "image/png": "[encoded data removed]",
      "text/plain": [
       "<Figure size 1152x432 with 1 Axes>"
      ]
     },
     "metadata": {
      "needs_background": "light"
     },
     "output_type": "display_data"
    }
   ],
   "source": [
    "dataset['Close'].plot(figsize=(16,6))"
   ]
  },
  {
   "cell_type": "code",
   "execution_count": 78,
   "metadata": {
    "scrolled": true
   },
   "outputs": [
    {
     "ename": "AttributeError",
     "evalue": "Can only use .str accessor with string values, which use np.object_ dtype in pandas",
     "output_type": "error",
     "traceback": [
      "\u001b[0;31m---------------------------------------------------------------------------\u001b[0m",
      "\u001b[0;31mAttributeError\u001b[0m                            Traceback (most recent call last)",
      "\u001b[0;32m<ipython-input-78-9fcbc71b1468>\u001b[0m in \u001b[0;36m<module>\u001b[0;34m\u001b[0m\n\u001b[1;32m      1\u001b[0m \u001b[0;31m# convert column \"a\" of a DataFrame\u001b[0m\u001b[0;34m\u001b[0m\u001b[0;34m\u001b[0m\u001b[0m\n\u001b[0;32m----> 2\u001b[0;31m \u001b[0mdataset\u001b[0m\u001b[0;34m[\u001b[0m\u001b[0;34m\"Close\"\u001b[0m\u001b[0;34m]\u001b[0m \u001b[0;34m=\u001b[0m \u001b[0mdataset\u001b[0m\u001b[0;34m[\u001b[0m\u001b[0;34m\"Close\"\u001b[0m\u001b[0;34m]\u001b[0m\u001b[0;34m.\u001b[0m\u001b[0mstr\u001b[0m\u001b[0;34m.\u001b[0m\u001b[0mreplace\u001b[0m\u001b[0;34m(\u001b[0m\u001b[0;34m','\u001b[0m\u001b[0;34m,\u001b[0m \u001b[0;34m''\u001b[0m\u001b[0;34m)\u001b[0m\u001b[0;34m.\u001b[0m\u001b[0mastype\u001b[0m\u001b[0;34m(\u001b[0m\u001b[0mfloat\u001b[0m\u001b[0;34m)\u001b[0m\u001b[0;34m\u001b[0m\u001b[0m\n\u001b[0m",
      "\u001b[0;32m~/.venv/jns/lib/python3.5/site-packages/pandas/core/generic.py\u001b[0m in \u001b[0;36m__getattr__\u001b[0;34m(self, name)\u001b[0m\n\u001b[1;32m   5061\u001b[0m         if (name in self._internal_names_set or name in self._metadata or\n\u001b[1;32m   5062\u001b[0m                 name in self._accessors):\n\u001b[0;32m-> 5063\u001b[0;31m             \u001b[0;32mreturn\u001b[0m \u001b[0mobject\u001b[0m\u001b[0;34m.\u001b[0m\u001b[0m__getattribute__\u001b[0m\u001b[0;34m(\u001b[0m\u001b[0mself\u001b[0m\u001b[0;34m,\u001b[0m \u001b[0mname\u001b[0m\u001b[0;34m)\u001b[0m\u001b[0;34m\u001b[0m\u001b[0m\n\u001b[0m\u001b[1;32m   5064\u001b[0m         \u001b[0;32melse\u001b[0m\u001b[0;34m:\u001b[0m\u001b[0;34m\u001b[0m\u001b[0m\n\u001b[1;32m   5065\u001b[0m             \u001b[0;32mif\u001b[0m \u001b[0mself\u001b[0m\u001b[0;34m.\u001b[0m\u001b[0m_info_axis\u001b[0m\u001b[0;34m.\u001b[0m\u001b[0m_can_hold_identifiers_and_holds_name\u001b[0m\u001b[0;34m(\u001b[0m\u001b[0mname\u001b[0m\u001b[0;34m)\u001b[0m\u001b[0;34m:\u001b[0m\u001b[0;34m\u001b[0m\u001b[0m\n",
      "\u001b[0;32m~/.venv/jns/lib/python3.5/site-packages/pandas/core/accessor.py\u001b[0m in \u001b[0;36m__get__\u001b[0;34m(self, obj, cls)\u001b[0m\n\u001b[1;32m    169\u001b[0m             \u001b[0;31m# we're accessing the attribute of the class, i.e., Dataset.geo\u001b[0m\u001b[0;34m\u001b[0m\u001b[0;34m\u001b[0m\u001b[0m\n\u001b[1;32m    170\u001b[0m             \u001b[0;32mreturn\u001b[0m \u001b[0mself\u001b[0m\u001b[0;34m.\u001b[0m\u001b[0m_accessor\u001b[0m\u001b[0;34m\u001b[0m\u001b[0m\n\u001b[0;32m--> 171\u001b[0;31m         \u001b[0maccessor_obj\u001b[0m \u001b[0;34m=\u001b[0m \u001b[0mself\u001b[0m\u001b[0;34m.\u001b[0m\u001b[0m_accessor\u001b[0m\u001b[0;34m(\u001b[0m\u001b[0mobj\u001b[0m\u001b[0;34m)\u001b[0m\u001b[0;34m\u001b[0m\u001b[0m\n\u001b[0m\u001b[1;32m    172\u001b[0m         \u001b[0;31m# Replace the property with the accessor object. Inspired by:\u001b[0m\u001b[0;34m\u001b[0m\u001b[0;34m\u001b[0m\u001b[0m\n\u001b[1;32m    173\u001b[0m         \u001b[0;31m# http://www.pydanny.com/cached-property.html\u001b[0m\u001b[0;34m\u001b[0m\u001b[0;34m\u001b[0m\u001b[0m\n",
      "\u001b[0;32m~/.venv/jns/lib/python3.5/site-packages/pandas/core/strings.py\u001b[0m in \u001b[0;36m__init__\u001b[0;34m(self, data)\u001b[0m\n\u001b[1;32m   1794\u001b[0m \u001b[0;34m\u001b[0m\u001b[0m\n\u001b[1;32m   1795\u001b[0m     \u001b[0;32mdef\u001b[0m \u001b[0m__init__\u001b[0m\u001b[0;34m(\u001b[0m\u001b[0mself\u001b[0m\u001b[0;34m,\u001b[0m \u001b[0mdata\u001b[0m\u001b[0;34m)\u001b[0m\u001b[0;34m:\u001b[0m\u001b[0;34m\u001b[0m\u001b[0m\n\u001b[0;32m-> 1796\u001b[0;31m         \u001b[0mself\u001b[0m\u001b[0;34m.\u001b[0m\u001b[0m_validate\u001b[0m\u001b[0;34m(\u001b[0m\u001b[0mdata\u001b[0m\u001b[0;34m)\u001b[0m\u001b[0;34m\u001b[0m\u001b[0m\n\u001b[0m\u001b[1;32m   1797\u001b[0m         \u001b[0mself\u001b[0m\u001b[0;34m.\u001b[0m\u001b[0m_is_categorical\u001b[0m \u001b[0;34m=\u001b[0m \u001b[0mis_categorical_dtype\u001b[0m\u001b[0;34m(\u001b[0m\u001b[0mdata\u001b[0m\u001b[0;34m)\u001b[0m\u001b[0;34m\u001b[0m\u001b[0m\n\u001b[1;32m   1798\u001b[0m \u001b[0;34m\u001b[0m\u001b[0m\n",
      "\u001b[0;32m~/.venv/jns/lib/python3.5/site-packages/pandas/core/strings.py\u001b[0m in \u001b[0;36m_validate\u001b[0;34m(data)\u001b[0m\n\u001b[1;32m   1816\u001b[0m             \u001b[0;31m# (instead of test for object dtype), but that isn't practical for\u001b[0m\u001b[0;34m\u001b[0m\u001b[0;34m\u001b[0m\u001b[0m\n\u001b[1;32m   1817\u001b[0m             \u001b[0;31m# performance reasons until we have a str dtype (GH 9343)\u001b[0m\u001b[0;34m\u001b[0m\u001b[0;34m\u001b[0m\u001b[0m\n\u001b[0;32m-> 1818\u001b[0;31m             raise AttributeError(\"Can only use .str accessor with string \"\n\u001b[0m\u001b[1;32m   1819\u001b[0m                                  \u001b[0;34m\"values, which use np.object_ dtype in \"\u001b[0m\u001b[0;34m\u001b[0m\u001b[0m\n\u001b[1;32m   1820\u001b[0m                                  \"pandas\")\n",
      "\u001b[0;31mAttributeError\u001b[0m: Can only use .str accessor with string values, which use np.object_ dtype in pandas"
     ]
    }
   ],
   "source": [
    "# convert column \"a\" of a DataFrame\n",
    "dataset[\"Close\"] = dataset[\"Close\"].str.replace(',', '').astype(float)"
   ]
  },
  {
   "cell_type": "code",
   "execution_count": 17,
   "metadata": {},
   "outputs": [
    {
     "data": {
      "text/html": [
       "<div>\n",
       "<style scoped>\n",
       "    .dataframe tbody tr th:only-of-type {\n",
       "        vertical-align: middle;\n",
       "    }\n",
       "\n",
       "    .dataframe tbody tr th {\n",
       "        vertical-align: top;\n",
       "    }\n",
       "\n",
       "    .dataframe thead tr th {\n",
       "        text-align: left;\n",
       "    }\n",
       "\n",
       "    .dataframe thead tr:last-of-type th {\n",
       "        text-align: right;\n",
       "    }\n",
       "</style>\n",
       "<table border=\"1\" class=\"dataframe\">\n",
       "  <thead>\n",
       "    <tr>\n",
       "      <th>Attributes</th>\n",
       "      <th>High</th>\n",
       "      <th>Low</th>\n",
       "      <th>Open</th>\n",
       "      <th>Close</th>\n",
       "      <th>Volume</th>\n",
       "      <th>Adj Close</th>\n",
       "    </tr>\n",
       "    <tr>\n",
       "      <th>Symbols</th>\n",
       "      <th>AAPL</th>\n",
       "      <th>AAPL</th>\n",
       "      <th>AAPL</th>\n",
       "      <th>AAPL</th>\n",
       "      <th>AAPL</th>\n",
       "      <th>AAPL</th>\n",
       "    </tr>\n",
       "    <tr>\n",
       "      <th>Date</th>\n",
       "      <th></th>\n",
       "      <th></th>\n",
       "      <th></th>\n",
       "      <th></th>\n",
       "      <th></th>\n",
       "      <th></th>\n",
       "    </tr>\n",
       "  </thead>\n",
       "  <tbody>\n",
       "    <tr>\n",
       "      <th>2012-01-03</th>\n",
       "      <td>NaN</td>\n",
       "      <td>NaN</td>\n",
       "      <td>NaN</td>\n",
       "      <td>NaN</td>\n",
       "      <td>NaN</td>\n",
       "      <td>NaN</td>\n",
       "    </tr>\n",
       "    <tr>\n",
       "      <th>2012-01-04</th>\n",
       "      <td>NaN</td>\n",
       "      <td>NaN</td>\n",
       "      <td>NaN</td>\n",
       "      <td>NaN</td>\n",
       "      <td>NaN</td>\n",
       "      <td>NaN</td>\n",
       "    </tr>\n",
       "    <tr>\n",
       "      <th>2012-01-05</th>\n",
       "      <td>NaN</td>\n",
       "      <td>NaN</td>\n",
       "      <td>NaN</td>\n",
       "      <td>NaN</td>\n",
       "      <td>NaN</td>\n",
       "      <td>NaN</td>\n",
       "    </tr>\n",
       "    <tr>\n",
       "      <th>2012-01-06</th>\n",
       "      <td>NaN</td>\n",
       "      <td>NaN</td>\n",
       "      <td>NaN</td>\n",
       "      <td>NaN</td>\n",
       "      <td>NaN</td>\n",
       "      <td>NaN</td>\n",
       "    </tr>\n",
       "    <tr>\n",
       "      <th>2012-01-09</th>\n",
       "      <td>NaN</td>\n",
       "      <td>NaN</td>\n",
       "      <td>NaN</td>\n",
       "      <td>NaN</td>\n",
       "      <td>NaN</td>\n",
       "      <td>NaN</td>\n",
       "    </tr>\n",
       "    <tr>\n",
       "      <th>2012-01-10</th>\n",
       "      <td>NaN</td>\n",
       "      <td>NaN</td>\n",
       "      <td>NaN</td>\n",
       "      <td>NaN</td>\n",
       "      <td>NaN</td>\n",
       "      <td>NaN</td>\n",
       "    </tr>\n",
       "    <tr>\n",
       "      <th>2012-01-11</th>\n",
       "      <td>60.103674</td>\n",
       "      <td>59.435306</td>\n",
       "      <td>59.759388</td>\n",
       "      <td>59.849388</td>\n",
       "      <td>72111100.0</td>\n",
       "      <td>39.907750</td>\n",
       "    </tr>\n",
       "    <tr>\n",
       "      <th>2012-01-12</th>\n",
       "      <td>60.315919</td>\n",
       "      <td>59.634286</td>\n",
       "      <td>60.022245</td>\n",
       "      <td>60.056734</td>\n",
       "      <td>68909900.0</td>\n",
       "      <td>40.046008</td>\n",
       "    </tr>\n",
       "    <tr>\n",
       "      <th>2012-01-13</th>\n",
       "      <td>60.433674</td>\n",
       "      <td>59.825715</td>\n",
       "      <td>60.220204</td>\n",
       "      <td>60.186734</td>\n",
       "      <td>67695600.0</td>\n",
       "      <td>40.132694</td>\n",
       "    </tr>\n",
       "    <tr>\n",
       "      <th>2012-01-17</th>\n",
       "      <td>60.585510</td>\n",
       "      <td>60.035714</td>\n",
       "      <td>60.408979</td>\n",
       "      <td>60.322857</td>\n",
       "      <td>66682300.0</td>\n",
       "      <td>40.223463</td>\n",
       "    </tr>\n",
       "    <tr>\n",
       "      <th>2012-01-18</th>\n",
       "      <td>60.722653</td>\n",
       "      <td>60.180204</td>\n",
       "      <td>60.555714</td>\n",
       "      <td>60.459796</td>\n",
       "      <td>65200100.0</td>\n",
       "      <td>40.314772</td>\n",
       "    </tr>\n",
       "    <tr>\n",
       "      <th>2012-01-19</th>\n",
       "      <td>60.796531</td>\n",
       "      <td>60.285510</td>\n",
       "      <td>60.650612</td>\n",
       "      <td>60.582653</td>\n",
       "      <td>60475600.0</td>\n",
       "      <td>40.396695</td>\n",
       "    </tr>\n",
       "    <tr>\n",
       "      <th>2012-01-20</th>\n",
       "      <td>60.827143</td>\n",
       "      <td>60.249796</td>\n",
       "      <td>60.682857</td>\n",
       "      <td>60.522653</td>\n",
       "      <td>66039100.0</td>\n",
       "      <td>40.356690</td>\n",
       "    </tr>\n",
       "    <tr>\n",
       "      <th>2012-01-23</th>\n",
       "      <td>60.941429</td>\n",
       "      <td>60.310817</td>\n",
       "      <td>60.682653</td>\n",
       "      <td>60.621837</td>\n",
       "      <td>69288300.0</td>\n",
       "      <td>40.422826</td>\n",
       "    </tr>\n",
       "    <tr>\n",
       "      <th>2012-01-24</th>\n",
       "      <td>60.986326</td>\n",
       "      <td>60.327143</td>\n",
       "      <td>60.740204</td>\n",
       "      <td>60.601837</td>\n",
       "      <td>81254400.0</td>\n",
       "      <td>40.409492</td>\n",
       "    </tr>\n",
       "    <tr>\n",
       "      <th>2012-01-25</th>\n",
       "      <td>61.680204</td>\n",
       "      <td>60.838776</td>\n",
       "      <td>61.449183</td>\n",
       "      <td>61.149796</td>\n",
       "      <td>107407700.0</td>\n",
       "      <td>40.774871</td>\n",
       "    </tr>\n",
       "    <tr>\n",
       "      <th>2012-01-26</th>\n",
       "      <td>62.145509</td>\n",
       "      <td>61.250613</td>\n",
       "      <td>61.942245</td>\n",
       "      <td>61.556531</td>\n",
       "      <td>110303700.0</td>\n",
       "      <td>41.046082</td>\n",
       "    </tr>\n",
       "    <tr>\n",
       "      <th>2012-01-27</th>\n",
       "      <td>62.533469</td>\n",
       "      <td>61.607143</td>\n",
       "      <td>62.296939</td>\n",
       "      <td>61.927347</td>\n",
       "      <td>111122200.0</td>\n",
       "      <td>41.293344</td>\n",
       "    </tr>\n",
       "    <tr>\n",
       "      <th>2012-01-30</th>\n",
       "      <td>62.993265</td>\n",
       "      <td>61.992449</td>\n",
       "      <td>62.614489</td>\n",
       "      <td>62.442857</td>\n",
       "      <td>115322300.0</td>\n",
       "      <td>41.637087</td>\n",
       "    </tr>\n",
       "    <tr>\n",
       "      <th>2012-01-31</th>\n",
       "      <td>63.620612</td>\n",
       "      <td>62.672449</td>\n",
       "      <td>63.187958</td>\n",
       "      <td>63.181224</td>\n",
       "      <td>114526200.0</td>\n",
       "      <td>42.129430</td>\n",
       "    </tr>\n",
       "  </tbody>\n",
       "</table>\n",
       "</div>"
      ],
      "text/plain": [
       "Attributes       High        Low       Open      Close       Volume  Adj Close\n",
       "Symbols          AAPL       AAPL       AAPL       AAPL         AAPL       AAPL\n",
       "Date                                                                          \n",
       "2012-01-03        NaN        NaN        NaN        NaN          NaN        NaN\n",
       "2012-01-04        NaN        NaN        NaN        NaN          NaN        NaN\n",
       "2012-01-05        NaN        NaN        NaN        NaN          NaN        NaN\n",
       "2012-01-06        NaN        NaN        NaN        NaN          NaN        NaN\n",
       "2012-01-09        NaN        NaN        NaN        NaN          NaN        NaN\n",
       "2012-01-10        NaN        NaN        NaN        NaN          NaN        NaN\n",
       "2012-01-11  60.103674  59.435306  59.759388  59.849388   72111100.0  39.907750\n",
       "2012-01-12  60.315919  59.634286  60.022245  60.056734   68909900.0  40.046008\n",
       "2012-01-13  60.433674  59.825715  60.220204  60.186734   67695600.0  40.132694\n",
       "2012-01-17  60.585510  60.035714  60.408979  60.322857   66682300.0  40.223463\n",
       "2012-01-18  60.722653  60.180204  60.555714  60.459796   65200100.0  40.314772\n",
       "2012-01-19  60.796531  60.285510  60.650612  60.582653   60475600.0  40.396695\n",
       "2012-01-20  60.827143  60.249796  60.682857  60.522653   66039100.0  40.356690\n",
       "2012-01-23  60.941429  60.310817  60.682653  60.621837   69288300.0  40.422826\n",
       "2012-01-24  60.986326  60.327143  60.740204  60.601837   81254400.0  40.409492\n",
       "2012-01-25  61.680204  60.838776  61.449183  61.149796  107407700.0  40.774871\n",
       "2012-01-26  62.145509  61.250613  61.942245  61.556531  110303700.0  41.046082\n",
       "2012-01-27  62.533469  61.607143  62.296939  61.927347  111122200.0  41.293344\n",
       "2012-01-30  62.993265  61.992449  62.614489  62.442857  115322300.0  41.637087\n",
       "2012-01-31  63.620612  62.672449  63.187958  63.181224  114526200.0  42.129430"
      ]
     },
     "execution_count": 17,
     "metadata": {},
     "output_type": "execute_result"
    }
   ],
   "source": [
    "# 7 day rolling mean\n",
    "dataset.rolling(7).mean().head(20)"
   ]
  },
  {
   "cell_type": "code",
   "execution_count": 18,
   "metadata": {},
   "outputs": [
    {
     "data": {
      "text/plain": [
       "<matplotlib.axes._subplots.AxesSubplot at 0x668b4db0>"
      ]
     },
     "execution_count": 18,
     "metadata": {},
     "output_type": "execute_result"
    },
    {
     "data": {
      "image/png": "[encoded data removed]",
      "text/plain": [
       "<Figure size 1152x432 with 1 Axes>"
      ]
     },
     "metadata": {
      "needs_background": "light"
     },
     "output_type": "display_data"
    },
    {
     "data": {
      "image/png": "[encoded data removed]",
      "text/plain": [
       "<Figure size 432x288 with 1 Axes>"
      ]
     },
     "metadata": {
      "needs_background": "light"
     },
     "output_type": "display_data"
    }
   ],
   "source": [
    "dataset['Open'].plot(figsize=(16,6))\n",
    "dataset.rolling(window=30).mean()['Close'].plot()"
   ]
  },
  {
   "cell_type": "code",
   "execution_count": 19,
   "metadata": {
    "scrolled": true
   },
   "outputs": [
    {
     "data": {
      "text/plain": [
       "<matplotlib.axes._subplots.AxesSubplot at 0x66d4b130>"
      ]
     },
     "execution_count": 19,
     "metadata": {},
     "output_type": "execute_result"
    },
    {
     "data": {
      "image/png": "[encoded data removed]",
      "text/plain": [
       "<Figure size 1152x432 with 1 Axes>"
      ]
     },
     "metadata": {
      "needs_background": "light"
     },
     "output_type": "display_data"
    }
   ],
   "source": [
    "dataset['Close: 30 Day Mean'] = dataset['Close'].rolling(window=30).mean()\n",
    "dataset[['Close','Close: 30 Day Mean']].plot(figsize=(16,6))"
   ]
  },
  {
   "cell_type": "code",
   "execution_count": 79,
   "metadata": {},
   "outputs": [
    {
     "data": {
      "text/plain": [
       "<matplotlib.axes._subplots.AxesSubplot at 0x5ac700b0>"
      ]
     },
     "execution_count": 79,
     "metadata": {},
     "output_type": "execute_result"
    },
    {
     "data": {
      "image/png": "[encoded data removed]",
      "text/plain": [
       "<Figure size 1152x432 with 1 Axes>"
      ]
     },
     "metadata": {
      "needs_background": "light"
     },
     "output_type": "display_data"
    }
   ],
   "source": [
    "# Optional specify a minimum number of periods\n",
    "dataset['Close'].expanding(min_periods=1).mean().plot(figsize=(16,6))"
   ]
  },
  {
   "cell_type": "code",
   "execution_count": 20,
   "metadata": {},
   "outputs": [],
   "source": [
    "training_set=dataset['Open']\n",
    "training_set=pd.DataFrame(training_set)"
   ]
  },
  {
   "cell_type": "code",
   "execution_count": 21,
   "metadata": {},
   "outputs": [
    {
     "name": "stdout",
     "output_type": "stream",
     "text": [
      "<class 'pandas.core.frame.DataFrame'>\n",
      "DatetimeIndex: 1801 entries, 2012-01-03 to 2019-03-01\n",
      "Data columns (total 1 columns):\n",
      "AAPL    1801 non-null float64\n",
      "dtypes: float64(1)\n",
      "memory usage: 28.1 KB\n"
     ]
    }
   ],
   "source": [
    "training_set.info()"
   ]
  },
  {
   "cell_type": "code",
   "execution_count": 23,
   "metadata": {},
   "outputs": [],
   "source": [
    "from sklearn.preprocessing import MinMaxScaler\n",
    "sc = MinMaxScaler(feature_range = (0, 1))\n",
    "training_set_scaled = sc.fit_transform(training_set)\n",
    "\n",
    "# Creating a data structure with 60 timesteps and 1 output\n",
    "X_train = []\n",
    "y_train = []\n",
    "for i in range(60, 1801):\n",
    "    X_train.append(training_set_scaled[i-60:i, 0])\n",
    "    y_train.append(training_set_scaled[i, 0])\n",
    "X_train, y_train = np.array(X_train), np.array(y_train)\n",
    "\n",
    "# Reshaping\n",
    "X_train = np.reshape(X_train, (X_train.shape[0], X_train.shape[1], 1))"
   ]
  },
  {
   "cell_type": "code",
   "execution_count": 24,
   "metadata": {},
   "outputs": [],
   "source": [
    "#Building the RNN LSTM model\n",
    "# Importing the Keras libraries and packages\n",
    "from keras.models import Sequential\n",
    "from keras.wrappers.scikit_learn import KerasRegressor\n",
    "from keras.layers import Dense, Activation\n",
    "from keras.layers import LSTM\n",
    "from keras.layers import Dropout"
   ]
  },
  {
   "cell_type": "code",
   "execution_count": 25,
   "metadata": {},
   "outputs": [],
   "source": [
    "# Initialising the RNN\n",
    "regressor = Sequential()"
   ]
  },
  {
   "cell_type": "code",
   "execution_count": 26,
   "metadata": {},
   "outputs": [],
   "source": [
    "\n",
    "\n",
    "# Adding the first LSTM layer and some Dropout regularisation\n",
    "regressor.add(LSTM(units = 50, return_sequences = True, input_shape = (X_train.shape[1], 1)))\n",
    "regressor.add(Dropout(0.2))\n",
    "\n",
    "# Adding a second LSTM layer and some Dropout regularisation\n",
    "regressor.add(LSTM(units = 50, return_sequences = True))\n",
    "regressor.add(Dropout(0.2))\n",
    "\n",
    "# Adding a third LSTM layer and some Dropout regularisation\n",
    "regressor.add(LSTM(units = 50, return_sequences = True))\n",
    "regressor.add(Dropout(0.2))\n",
    "\n",
    "# Adding a fourth LSTM layer and some Dropout regularisation\n",
    "regressor.add(LSTM(units = 50))\n",
    "regressor.add(Dropout(0.2))\n",
    "\n",
    "# Adding the output layer\n",
    "regressor.add(Dense(units = 1))\n",
    "\n"
   ]
  },
  {
   "cell_type": "code",
   "execution_count": 27,
   "metadata": {
    "scrolled": true
   },
   "outputs": [
    {
     "name": "stdout",
     "output_type": "stream",
     "text": [
      "Epoch 1/100\n",
      "1741/1741 [==============================] - 55s 31ms/step - loss: 0.0215\n",
      "Epoch 2/100\n",
      "1741/1741 [==============================] - 43s 25ms/step - loss: 0.0037\n",
      "Epoch 3/100\n",
      "1741/1741 [==============================] - 43s 24ms/step - loss: 0.0034\n",
      "Epoch 4/100\n",
      "1741/1741 [==============================] - 43s 24ms/step - loss: 0.0032\n",
      "Epoch 5/100\n",
      "1741/1741 [==============================] - 43s 25ms/step - loss: 0.0029\n",
      "Epoch 6/100\n",
      "1741/1741 [==============================] - 43s 25ms/step - loss: 0.0033\n",
      "Epoch 7/100\n",
      "1741/1741 [==============================] - 43s 24ms/step - loss: 0.0031\n",
      "Epoch 8/100\n",
      "1741/1741 [==============================] - 43s 25ms/step - loss: 0.0029\n",
      "Epoch 9/100\n",
      "1741/1741 [==============================] - 43s 25ms/step - loss: 0.0023\n",
      "Epoch 10/100\n",
      "1741/1741 [==============================] - 43s 25ms/step - loss: 0.0025\n",
      "Epoch 11/100\n",
      "1741/1741 [==============================] - 43s 25ms/step - loss: 0.0025\n",
      "Epoch 12/100\n",
      "1741/1741 [==============================] - 43s 25ms/step - loss: 0.0021\n",
      "Epoch 13/100\n",
      "1741/1741 [==============================] - 43s 24ms/step - loss: 0.0023\n",
      "Epoch 14/100\n",
      "1741/1741 [==============================] - 43s 25ms/step - loss: 0.0021\n",
      "Epoch 15/100\n",
      "1741/1741 [==============================] - 44s 25ms/step - loss: 0.0020\n",
      "Epoch 16/100\n",
      "1741/1741 [==============================] - 44s 25ms/step - loss: 0.0019\n",
      "Epoch 17/100\n",
      "1741/1741 [==============================] - 44s 25ms/step - loss: 0.0020\n",
      "Epoch 18/100\n",
      "1741/1741 [==============================] - 45s 26ms/step - loss: 0.0019\n",
      "Epoch 19/100\n",
      "1741/1741 [==============================] - 45s 26ms/step - loss: 0.0019\n",
      "Epoch 20/100\n",
      "1741/1741 [==============================] - 45s 26ms/step - loss: 0.0017\n",
      "Epoch 21/100\n",
      "1741/1741 [==============================] - 45s 26ms/step - loss: 0.0018\n",
      "Epoch 22/100\n",
      "1741/1741 [==============================] - 46s 27ms/step - loss: 0.0017\n",
      "Epoch 23/100\n",
      "1741/1741 [==============================] - 46s 26ms/step - loss: 0.0015\n",
      "Epoch 24/100\n",
      "1741/1741 [==============================] - 47s 27ms/step - loss: 0.0017\n",
      "Epoch 25/100\n",
      "1741/1741 [==============================] - 46s 26ms/step - loss: 0.0014\n",
      "Epoch 26/100\n",
      "1741/1741 [==============================] - 46s 26ms/step - loss: 0.0015\n",
      "Epoch 27/100\n",
      "1741/1741 [==============================] - 47s 27ms/step - loss: 0.0016\n",
      "Epoch 28/100\n",
      "1741/1741 [==============================] - 46s 27ms/step - loss: 0.0017\n",
      "Epoch 29/100\n",
      "1741/1741 [==============================] - 47s 27ms/step - loss: 0.0015\n",
      "Epoch 30/100\n",
      "1741/1741 [==============================] - 47s 27ms/step - loss: 0.0015\n",
      "Epoch 31/100\n",
      "1741/1741 [==============================] - 47s 27ms/step - loss: 0.0016\n",
      "Epoch 32/100\n",
      "1741/1741 [==============================] - 47s 27ms/step - loss: 0.0015\n",
      "Epoch 33/100\n",
      "1741/1741 [==============================] - 47s 27ms/step - loss: 0.0014\n",
      "Epoch 34/100\n",
      "1741/1741 [==============================] - 48s 27ms/step - loss: 0.0013\n",
      "Epoch 35/100\n",
      "1741/1741 [==============================] - 47s 27ms/step - loss: 0.0013\n",
      "Epoch 36/100\n",
      "1741/1741 [==============================] - 47s 27ms/step - loss: 0.0013\n",
      "Epoch 37/100\n",
      "1741/1741 [==============================] - 47s 27ms/step - loss: 0.0011\n",
      "Epoch 38/100\n",
      "1741/1741 [==============================] - 48s 28ms/step - loss: 0.0011\n",
      "Epoch 39/100\n",
      "1741/1741 [==============================] - 47s 27ms/step - loss: 0.0013\n",
      "Epoch 40/100\n",
      "1741/1741 [==============================] - 47s 27ms/step - loss: 0.0012\n",
      "Epoch 41/100\n",
      "1741/1741 [==============================] - 47s 27ms/step - loss: 0.0012\n",
      "Epoch 42/100\n",
      "1741/1741 [==============================] - 47s 27ms/step - loss: 0.0011\n",
      "Epoch 43/100\n",
      "1741/1741 [==============================] - 47s 27ms/step - loss: 0.0011\n",
      "Epoch 44/100\n",
      "1741/1741 [==============================] - 47s 27ms/step - loss: 0.0012\n",
      "Epoch 45/100\n",
      "1741/1741 [==============================] - 48s 27ms/step - loss: 0.0011\n",
      "Epoch 46/100\n",
      "1741/1741 [==============================] - 47s 27ms/step - loss: 0.0012\n",
      "Epoch 47/100\n",
      "1741/1741 [==============================] - 48s 27ms/step - loss: 0.0012\n",
      "Epoch 48/100\n",
      "1741/1741 [==============================] - 47s 27ms/step - loss: 0.0011\n",
      "Epoch 49/100\n",
      "1741/1741 [==============================] - 47s 27ms/step - loss: 0.0010\n",
      "Epoch 50/100\n",
      "1741/1741 [==============================] - 48s 27ms/step - loss: 0.0010\n",
      "Epoch 51/100\n",
      "1741/1741 [==============================] - 47s 27ms/step - loss: 9.5858e-04\n",
      "Epoch 52/100\n",
      "1741/1741 [==============================] - 47s 27ms/step - loss: 0.0011\n",
      "Epoch 53/100\n",
      "1741/1741 [==============================] - 49s 28ms/step - loss: 0.0010\n",
      "Epoch 54/100\n",
      "1741/1741 [==============================] - 51s 30ms/step - loss: 9.8033e-04\n",
      "Epoch 55/100\n",
      "1741/1741 [==============================] - 47s 27ms/step - loss: 9.9400e-04\n",
      "Epoch 56/100\n",
      "1741/1741 [==============================] - 47s 27ms/step - loss: 0.0011\n",
      "Epoch 57/100\n",
      "1741/1741 [==============================] - 48s 27ms/step - loss: 9.7411e-04\n",
      "Epoch 58/100\n",
      "1741/1741 [==============================] - 47s 27ms/step - loss: 0.0011\n",
      "Epoch 59/100\n",
      "1741/1741 [==============================] - 47s 27ms/step - loss: 9.3351e-04\n",
      "Epoch 60/100\n",
      "1741/1741 [==============================] - 47s 27ms/step - loss: 9.5771e-04\n",
      "Epoch 61/100\n",
      "1741/1741 [==============================] - 47s 27ms/step - loss: 0.0010\n",
      "Epoch 62/100\n",
      "1741/1741 [==============================] - 47s 27ms/step - loss: 9.6457e-04\n",
      "Epoch 63/100\n",
      "1741/1741 [==============================] - 46s 26ms/step - loss: 8.8161e-04\n",
      "Epoch 64/100\n",
      "1741/1741 [==============================] - 52s 30ms/step - loss: 9.1891e-04\n",
      "Epoch 65/100\n",
      "1741/1741 [==============================] - 50s 29ms/step - loss: 8.8851e-04\n",
      "Epoch 66/100\n",
      "1741/1741 [==============================] - 47s 27ms/step - loss: 9.5571e-04\n",
      "Epoch 67/100\n",
      "1741/1741 [==============================] - 47s 27ms/step - loss: 9.2312e-04\n",
      "Epoch 68/100\n",
      "1741/1741 [==============================] - 40s 23ms/step - loss: 9.8254e-04\n",
      "Epoch 69/100\n",
      "1741/1741 [==============================] - 38s 22ms/step - loss: 8.6551e-04\n",
      "Epoch 70/100\n",
      "1741/1741 [==============================] - 38s 22ms/step - loss: 9.0138e-04\n",
      "Epoch 71/100\n",
      "1741/1741 [==============================] - 38s 22ms/step - loss: 9.8610e-04\n",
      "Epoch 72/100\n",
      "1741/1741 [==============================] - 42s 24ms/step - loss: 0.0010\n",
      "Epoch 73/100\n",
      "1741/1741 [==============================] - 43s 25ms/step - loss: 9.0398e-04\n",
      "Epoch 74/100\n",
      "1741/1741 [==============================] - 43s 24ms/step - loss: 9.4301e-04\n",
      "Epoch 75/100\n",
      "1741/1741 [==============================] - 43s 25ms/step - loss: 8.3311e-04\n",
      "Epoch 76/100\n",
      "1741/1741 [==============================] - 43s 25ms/step - loss: 8.0918e-04\n",
      "Epoch 77/100\n",
      "1741/1741 [==============================] - 42s 24ms/step - loss: 8.9385e-04\n",
      "Epoch 78/100\n",
      "1741/1741 [==============================] - 43s 25ms/step - loss: 8.0939e-04\n",
      "Epoch 79/100\n",
      "1741/1741 [==============================] - 43s 25ms/step - loss: 8.8417e-04\n",
      "Epoch 80/100\n",
      "1741/1741 [==============================] - 42s 24ms/step - loss: 7.9585e-04\n",
      "Epoch 81/100\n",
      "1741/1741 [==============================] - 43s 24ms/step - loss: 9.5374e-04\n",
      "Epoch 82/100\n",
      "1741/1741 [==============================] - 43s 25ms/step - loss: 8.5201e-04\n",
      "Epoch 83/100\n",
      "1741/1741 [==============================] - 42s 24ms/step - loss: 9.1971e-04\n",
      "Epoch 84/100\n",
      "1741/1741 [==============================] - 42s 24ms/step - loss: 0.0010\n",
      "Epoch 85/100\n",
      "1741/1741 [==============================] - 43s 24ms/step - loss: 0.0011\n",
      "Epoch 86/100\n",
      "1741/1741 [==============================] - 43s 25ms/step - loss: 8.9586e-04\n",
      "Epoch 87/100\n",
      "1741/1741 [==============================] - 44s 25ms/step - loss: 9.4593e-04\n",
      "Epoch 88/100\n",
      "1741/1741 [==============================] - 44s 25ms/step - loss: 7.3457e-04\n",
      "Epoch 89/100\n",
      "1741/1741 [==============================] - 44s 26ms/step - loss: 7.3804e-04\n",
      "Epoch 90/100\n",
      "1741/1741 [==============================] - 45s 26ms/step - loss: 8.9638e-04\n",
      "Epoch 91/100\n",
      "1741/1741 [==============================] - 45s 26ms/step - loss: 8.9447e-04\n",
      "Epoch 92/100\n",
      "1741/1741 [==============================] - 46s 26ms/step - loss: 9.6004e-04\n",
      "Epoch 93/100\n"
     ]
    },
    {
     "name": "stdout",
     "output_type": "stream",
     "text": [
      "1741/1741 [==============================] - 46s 26ms/step - loss: 8.4167e-04\n",
      "Epoch 94/100\n",
      "1741/1741 [==============================] - 46s 27ms/step - loss: 8.7234e-04\n",
      "Epoch 95/100\n",
      "1741/1741 [==============================] - 47s 27ms/step - loss: 7.5982e-04\n",
      "Epoch 96/100\n",
      "1741/1741 [==============================] - 46s 27ms/step - loss: 9.1950e-04\n",
      "Epoch 97/100\n",
      "1741/1741 [==============================] - 47s 27ms/step - loss: 8.7803e-04\n",
      "Epoch 98/100\n",
      "1741/1741 [==============================] - 47s 27ms/step - loss: 7.7279e-04\n",
      "Epoch 99/100\n",
      "1741/1741 [==============================] - 47s 27ms/step - loss: 8.2327e-04\n",
      "Epoch 100/100\n",
      "1741/1741 [==============================] - 47s 27ms/step - loss: 7.4671e-04\n"
     ]
    },
    {
     "data": {
      "text/plain": [
       "<keras.callbacks.History at 0x66a56f70>"
      ]
     },
     "execution_count": 27,
     "metadata": {},
     "output_type": "execute_result"
    }
   ],
   "source": [
    "# Compiling the RNN\n",
    "regressor.compile(optimizer = 'adam', loss = 'mean_squared_error')\n",
    "\n",
    "# Fitting the RNN to the Training set\n",
    "regressor.fit(X_train, y_train, epochs = 100, batch_size = 32)"
   ]
  },
  {
   "cell_type": "code",
   "execution_count": 40,
   "metadata": {},
   "outputs": [
    {
     "data": {
      "text/html": [
       "<div>\n",
       "<style scoped>\n",
       "    .dataframe tbody tr th:only-of-type {\n",
       "        vertical-align: middle;\n",
       "    }\n",
       "\n",
       "    .dataframe tbody tr th {\n",
       "        vertical-align: top;\n",
       "    }\n",
       "\n",
       "    .dataframe thead tr th {\n",
       "        text-align: left;\n",
       "    }\n",
       "\n",
       "    .dataframe thead tr:last-of-type th {\n",
       "        text-align: right;\n",
       "    }\n",
       "</style>\n",
       "<table border=\"1\" class=\"dataframe\">\n",
       "  <thead>\n",
       "    <tr>\n",
       "      <th>Attributes</th>\n",
       "      <th>High</th>\n",
       "      <th>Low</th>\n",
       "      <th>Open</th>\n",
       "      <th>Close</th>\n",
       "      <th>Volume</th>\n",
       "      <th>Adj Close</th>\n",
       "    </tr>\n",
       "    <tr>\n",
       "      <th>Symbols</th>\n",
       "      <th>AAPL</th>\n",
       "      <th>AAPL</th>\n",
       "      <th>AAPL</th>\n",
       "      <th>AAPL</th>\n",
       "      <th>AAPL</th>\n",
       "      <th>AAPL</th>\n",
       "    </tr>\n",
       "    <tr>\n",
       "      <th>Date</th>\n",
       "      <th></th>\n",
       "      <th></th>\n",
       "      <th></th>\n",
       "      <th></th>\n",
       "      <th></th>\n",
       "      <th></th>\n",
       "    </tr>\n",
       "  </thead>\n",
       "  <tbody>\n",
       "    <tr>\n",
       "      <th>2018-01-02</th>\n",
       "      <td>172.300003</td>\n",
       "      <td>169.259995</td>\n",
       "      <td>170.160004</td>\n",
       "      <td>172.259995</td>\n",
       "      <td>25555900.0</td>\n",
       "      <td>168.987320</td>\n",
       "    </tr>\n",
       "    <tr>\n",
       "      <th>2018-01-03</th>\n",
       "      <td>174.550003</td>\n",
       "      <td>171.960007</td>\n",
       "      <td>172.529999</td>\n",
       "      <td>172.229996</td>\n",
       "      <td>29517900.0</td>\n",
       "      <td>168.957886</td>\n",
       "    </tr>\n",
       "    <tr>\n",
       "      <th>2018-01-04</th>\n",
       "      <td>173.470001</td>\n",
       "      <td>172.080002</td>\n",
       "      <td>172.539993</td>\n",
       "      <td>173.029999</td>\n",
       "      <td>22434600.0</td>\n",
       "      <td>169.742706</td>\n",
       "    </tr>\n",
       "    <tr>\n",
       "      <th>2018-01-05</th>\n",
       "      <td>175.369995</td>\n",
       "      <td>173.050003</td>\n",
       "      <td>173.440002</td>\n",
       "      <td>175.000000</td>\n",
       "      <td>23660000.0</td>\n",
       "      <td>171.675278</td>\n",
       "    </tr>\n",
       "    <tr>\n",
       "      <th>2018-01-08</th>\n",
       "      <td>175.610001</td>\n",
       "      <td>173.929993</td>\n",
       "      <td>174.350006</td>\n",
       "      <td>174.350006</td>\n",
       "      <td>20567800.0</td>\n",
       "      <td>171.037628</td>\n",
       "    </tr>\n",
       "  </tbody>\n",
       "</table>\n",
       "</div>"
      ],
      "text/plain": [
       "Attributes        High         Low        Open       Close      Volume  \\\n",
       "Symbols           AAPL        AAPL        AAPL        AAPL        AAPL   \n",
       "Date                                                                     \n",
       "2018-01-02  172.300003  169.259995  170.160004  172.259995  25555900.0   \n",
       "2018-01-03  174.550003  171.960007  172.529999  172.229996  29517900.0   \n",
       "2018-01-04  173.470001  172.080002  172.539993  173.029999  22434600.0   \n",
       "2018-01-05  175.369995  173.050003  173.440002  175.000000  23660000.0   \n",
       "2018-01-08  175.610001  173.929993  174.350006  174.350006  20567800.0   \n",
       "\n",
       "Attributes   Adj Close  \n",
       "Symbols           AAPL  \n",
       "Date                    \n",
       "2018-01-02  168.987320  \n",
       "2018-01-03  168.957886  \n",
       "2018-01-04  169.742706  \n",
       "2018-01-05  171.675278  \n",
       "2018-01-08  171.037628  "
      ]
     },
     "execution_count": 40,
     "metadata": {},
     "output_type": "execute_result"
    }
   ],
   "source": [
    "# Define the instruments to download. We would like to see Apple, Microsoft and the S&P500 index.\n",
    "ticker = ['AAPL'] #, 'MSFT', '^GSPC']\n",
    "start_date = datetime.datetime(2018,1,1)\n",
    "end_date = datetime.date.today() #datetime(2016,12,30) #date.today()\n",
    "\n",
    "# User pandas_reader.data.DataReader to load the desired data. As simple as that.\n",
    "dataset_test = data.DataReader(ticker, 'yahoo', start_date, end_date)\n",
    "\n",
    "type(dataset_test)\n",
    "\n",
    "dataset_test.head()"
   ]
  },
  {
   "cell_type": "code",
   "execution_count": 89,
   "metadata": {},
   "outputs": [
    {
     "data": {
      "text/plain": [
       "pandas.core.frame.DataFrame"
      ]
     },
     "execution_count": 89,
     "metadata": {},
     "output_type": "execute_result"
    }
   ],
   "source": [
    "# define dataset_test\n",
    "start = datetime.datetime(2014,1,1)\n",
    "end = datetime.date.today() #datetime(2017,1,31) #date.today()\n",
    " \n",
    "s = \"NVDA\"\n",
    "dataset_test = quandl.get(\"WIKI/\" + s, start_date=start, end_date=end)\n",
    " \n",
    "type(dataset_test)\n",
    "\n"
   ]
  },
  {
   "cell_type": "code",
   "execution_count": 32,
   "metadata": {},
   "outputs": [],
   "source": [
    "real_stock_price = dataset_test.iloc[:, 1:2].values"
   ]
  },
  {
   "cell_type": "code",
   "execution_count": 41,
   "metadata": {},
   "outputs": [
    {
     "data": {
      "text/html": [
       "<div>\n",
       "<style scoped>\n",
       "    .dataframe tbody tr th:only-of-type {\n",
       "        vertical-align: middle;\n",
       "    }\n",
       "\n",
       "    .dataframe tbody tr th {\n",
       "        vertical-align: top;\n",
       "    }\n",
       "\n",
       "    .dataframe thead tr th {\n",
       "        text-align: left;\n",
       "    }\n",
       "\n",
       "    .dataframe thead tr:last-of-type th {\n",
       "        text-align: right;\n",
       "    }\n",
       "</style>\n",
       "<table border=\"1\" class=\"dataframe\">\n",
       "  <thead>\n",
       "    <tr>\n",
       "      <th>Attributes</th>\n",
       "      <th>High</th>\n",
       "      <th>Low</th>\n",
       "      <th>Open</th>\n",
       "      <th>Close</th>\n",
       "      <th>Volume</th>\n",
       "      <th>Adj Close</th>\n",
       "    </tr>\n",
       "    <tr>\n",
       "      <th>Symbols</th>\n",
       "      <th>AAPL</th>\n",
       "      <th>AAPL</th>\n",
       "      <th>AAPL</th>\n",
       "      <th>AAPL</th>\n",
       "      <th>AAPL</th>\n",
       "      <th>AAPL</th>\n",
       "    </tr>\n",
       "    <tr>\n",
       "      <th>Date</th>\n",
       "      <th></th>\n",
       "      <th></th>\n",
       "      <th></th>\n",
       "      <th></th>\n",
       "      <th></th>\n",
       "      <th></th>\n",
       "    </tr>\n",
       "  </thead>\n",
       "  <tbody>\n",
       "    <tr>\n",
       "      <th>2018-01-02</th>\n",
       "      <td>172.300003</td>\n",
       "      <td>169.259995</td>\n",
       "      <td>170.160004</td>\n",
       "      <td>172.259995</td>\n",
       "      <td>25555900.0</td>\n",
       "      <td>168.987320</td>\n",
       "    </tr>\n",
       "    <tr>\n",
       "      <th>2018-01-03</th>\n",
       "      <td>174.550003</td>\n",
       "      <td>171.960007</td>\n",
       "      <td>172.529999</td>\n",
       "      <td>172.229996</td>\n",
       "      <td>29517900.0</td>\n",
       "      <td>168.957886</td>\n",
       "    </tr>\n",
       "    <tr>\n",
       "      <th>2018-01-04</th>\n",
       "      <td>173.470001</td>\n",
       "      <td>172.080002</td>\n",
       "      <td>172.539993</td>\n",
       "      <td>173.029999</td>\n",
       "      <td>22434600.0</td>\n",
       "      <td>169.742706</td>\n",
       "    </tr>\n",
       "    <tr>\n",
       "      <th>2018-01-05</th>\n",
       "      <td>175.369995</td>\n",
       "      <td>173.050003</td>\n",
       "      <td>173.440002</td>\n",
       "      <td>175.000000</td>\n",
       "      <td>23660000.0</td>\n",
       "      <td>171.675278</td>\n",
       "    </tr>\n",
       "    <tr>\n",
       "      <th>2018-01-08</th>\n",
       "      <td>175.610001</td>\n",
       "      <td>173.929993</td>\n",
       "      <td>174.350006</td>\n",
       "      <td>174.350006</td>\n",
       "      <td>20567800.0</td>\n",
       "      <td>171.037628</td>\n",
       "    </tr>\n",
       "  </tbody>\n",
       "</table>\n",
       "</div>"
      ],
      "text/plain": [
       "Attributes        High         Low        Open       Close      Volume  \\\n",
       "Symbols           AAPL        AAPL        AAPL        AAPL        AAPL   \n",
       "Date                                                                     \n",
       "2018-01-02  172.300003  169.259995  170.160004  172.259995  25555900.0   \n",
       "2018-01-03  174.550003  171.960007  172.529999  172.229996  29517900.0   \n",
       "2018-01-04  173.470001  172.080002  172.539993  173.029999  22434600.0   \n",
       "2018-01-05  175.369995  173.050003  173.440002  175.000000  23660000.0   \n",
       "2018-01-08  175.610001  173.929993  174.350006  174.350006  20567800.0   \n",
       "\n",
       "Attributes   Adj Close  \n",
       "Symbols           AAPL  \n",
       "Date                    \n",
       "2018-01-02  168.987320  \n",
       "2018-01-03  168.957886  \n",
       "2018-01-04  169.742706  \n",
       "2018-01-05  171.675278  \n",
       "2018-01-08  171.037628  "
      ]
     },
     "execution_count": 41,
     "metadata": {},
     "output_type": "execute_result"
    }
   ],
   "source": [
    "dataset_test.head()"
   ]
  },
  {
   "cell_type": "code",
   "execution_count": 34,
   "metadata": {},
   "outputs": [
    {
     "name": "stdout",
     "output_type": "stream",
     "text": [
      "<class 'pandas.core.frame.DataFrame'>\n",
      "DatetimeIndex: 1801 entries, 2012-01-03 to 2019-03-01\n",
      "Data columns (total 1 columns):\n",
      "AAPL    1801 non-null float64\n",
      "dtypes: float64(1)\n",
      "memory usage: 28.1 KB\n"
     ]
    }
   ],
   "source": [
    "#check column  matching between training_set and test_set\n",
    "training_set.info()"
   ]
  },
  {
   "cell_type": "code",
   "execution_count": 42,
   "metadata": {
    "scrolled": true
   },
   "outputs": [],
   "source": [
    "test_set=dataset_test['Open']\n",
    "test_set=pd.DataFrame(test_set)"
   ]
  },
  {
   "cell_type": "code",
   "execution_count": 43,
   "metadata": {
    "scrolled": false
   },
   "outputs": [
    {
     "name": "stdout",
     "output_type": "stream",
     "text": [
      "<class 'pandas.core.frame.DataFrame'>\n",
      "DatetimeIndex: 311 entries, 2018-01-02 to 2019-03-28\n",
      "Data columns (total 6 columns):\n",
      "(High, AAPL)         311 non-null float64\n",
      "(Low, AAPL)          311 non-null float64\n",
      "(Open, AAPL)         311 non-null float64\n",
      "(Close, AAPL)        311 non-null float64\n",
      "(Volume, AAPL)       311 non-null float64\n",
      "(Adj Close, AAPL)    311 non-null float64\n",
      "dtypes: float64(6)\n",
      "memory usage: 17.0 KB\n",
      "<class 'pandas.core.frame.DataFrame'>\n",
      "DatetimeIndex: 311 entries, 2018-01-02 to 2019-03-28\n",
      "Data columns (total 1 columns):\n",
      "AAPL    311 non-null float64\n",
      "dtypes: float64(1)\n",
      "memory usage: 4.9 KB\n"
     ]
    }
   ],
   "source": [
    "dataset_test.info()\n",
    "test_set.info()"
   ]
  },
  {
   "cell_type": "code",
   "execution_count": 44,
   "metadata": {},
   "outputs": [],
   "source": [
    "\n",
    "# Getting the predicted stock price\n",
    "dataset_total = pd.concat((dataset['Open'], dataset_test['Open']), axis = 0)\n",
    "inputs = dataset_total[len(dataset_total) - len(dataset_test) - 60:].values\n",
    "inputs = inputs.reshape(-1,1)\n",
    "inputs = sc.transform(inputs)\n",
    "X_test = []\n",
    "\n",
    "for i in range(60, 371):  ## maximum range depends on test_set entries, e.g. 776 + 60 = 332\n",
    "    X_test.append(inputs[i-60:i, 0])\n",
    "X_test = np.array(X_test)\n",
    "X_test = np.reshape(X_test, (X_test.shape[0], X_test.shape[1], 1))\n",
    "predicted_stock_price = regressor.predict(X_test)\n",
    "predicted_stock_price = sc.inverse_transform(predicted_stock_price)\n"
   ]
  },
  {
   "cell_type": "code",
   "execution_count": 45,
   "metadata": {},
   "outputs": [
    {
     "name": "stdout",
     "output_type": "stream",
     "text": [
      "<class 'pandas.core.frame.DataFrame'>\n",
      "RangeIndex: 311 entries, 0 to 310\n",
      "Data columns (total 1 columns):\n",
      "0    311 non-null float32\n",
      "dtypes: float32(1)\n",
      "memory usage: 1.3 KB\n"
     ]
    }
   ],
   "source": [
    "predicted_stock_price=pd.DataFrame(predicted_stock_price)\n",
    "predicted_stock_price.info()"
   ]
  },
  {
   "cell_type": "code",
   "execution_count": 46,
   "metadata": {},
   "outputs": [
    {
     "data": {
      "image/png": "[encoded data removed]",
      "text/plain": [
       "<Figure size 432x288 with 1 Axes>"
      ]
     },
     "metadata": {
      "needs_background": "light"
     },
     "output_type": "display_data"
    }
   ],
   "source": [
    "# Visualising the results\n",
    "plt.plot(real_stock_price, color = 'red', label = 'Real Google Stock Price')\n",
    "plt.plot(predicted_stock_price, color = 'blue', label = 'Predicted Google Stock Price')\n",
    "plt.title('Google Stock Price Prediction')\n",
    "plt.xlabel('Time')\n",
    "plt.ylabel('Google Stock Price')\n",
    "plt.legend()\n",
    "plt.show()\n"
   ]
  }
 ],
 "metadata": {
  "kernelspec": {
   "display_name": "Python 3",
   "language": "python",
   "name": "python3"
  },
  "language_info": {
   "codemirror_mode": {
    "name": "ipython",
    "version": 3
   },
   "file_extension": ".py",
   "mimetype": "text/x-python",
   "name": "python",
   "nbconvert_exporter": "python",
   "pygments_lexer": "ipython3",
   "version": "3.5.3"
  }
 },
 "nbformat": 4,
 "nbformat_minor": 2
}
