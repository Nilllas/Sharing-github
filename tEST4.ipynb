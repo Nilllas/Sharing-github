{
 "cells": [
  {
   "cell_type": "code",
   "execution_count": 1,
   "metadata": {},
   "outputs": [
    {
     "name": "stderr",
     "output_type": "stream",
     "text": [
      "Using TensorFlow backend.\n"
     ]
    }
   ],
   "source": [
    "from pandas_datareader import data\n",
    "import pandas as pd\n",
    "import quandl\n",
    "import matplotlib.pyplot as plt\n",
    "import datetime\n",
    "import numpy as np\n",
    "import tensorflow as tf\n",
    "import keras"
   ]
  },
  {
   "cell_type": "code",
   "execution_count": 4,
   "metadata": {},
   "outputs": [
    {
     "ename": "LimitExceededError",
     "evalue": "(Status 429) (Quandl Error QELx01) You have exceeded the anonymous user limit of 50 calls per day. To make more calls today, please register for a free Quandl account and then include your API key with your requests.",
     "output_type": "error",
     "traceback": [
      "\u001b[0;31m---------------------------------------------------------------------------\u001b[0m",
      "\u001b[0;31mLimitExceededError\u001b[0m                        Traceback (most recent call last)",
      "\u001b[0;32m<ipython-input-4-1b80754f89ea>\u001b[0m in \u001b[0;36m<module>\u001b[0;34m\u001b[0m\n\u001b[1;32m      6\u001b[0m \u001b[0;31m# First argument is the series we want, second is the source (\"yahoo\" for Yahoo! Finance), third is the start date, fourth is the end date\u001b[0m\u001b[0;34m\u001b[0m\u001b[0;34m\u001b[0m\u001b[0m\n\u001b[1;32m      7\u001b[0m \u001b[0ms\u001b[0m \u001b[0;34m=\u001b[0m \u001b[0;34m\"NVDA\"\u001b[0m\u001b[0;34m\u001b[0m\u001b[0m\n\u001b[0;32m----> 8\u001b[0;31m \u001b[0mdataset\u001b[0m \u001b[0;34m=\u001b[0m \u001b[0mquandl\u001b[0m\u001b[0;34m.\u001b[0m\u001b[0mget\u001b[0m\u001b[0;34m(\u001b[0m\u001b[0;34m\"WIKI/\"\u001b[0m \u001b[0;34m+\u001b[0m \u001b[0ms\u001b[0m\u001b[0;34m,\u001b[0m \u001b[0mstart_date\u001b[0m\u001b[0;34m=\u001b[0m\u001b[0mstart\u001b[0m\u001b[0;34m,\u001b[0m \u001b[0mend_date\u001b[0m\u001b[0;34m=\u001b[0m\u001b[0mend\u001b[0m\u001b[0;34m)\u001b[0m\u001b[0;34m\u001b[0m\u001b[0m\n\u001b[0m\u001b[1;32m      9\u001b[0m \u001b[0;34m\u001b[0m\u001b[0m\n\u001b[1;32m     10\u001b[0m \u001b[0mtype\u001b[0m\u001b[0;34m(\u001b[0m\u001b[0mdataset\u001b[0m\u001b[0;34m)\u001b[0m\u001b[0;34m\u001b[0m\u001b[0m\n",
      "\u001b[0;32m~/.venv/jns/lib/python3.5/site-packages/quandl/get.py\u001b[0m in \u001b[0;36mget\u001b[0;34m(dataset, **kwargs)\u001b[0m\n\u001b[1;32m     46\u001b[0m         \u001b[0;32mif\u001b[0m \u001b[0mdataset_args\u001b[0m\u001b[0;34m[\u001b[0m\u001b[0;34m'column_index'\u001b[0m\u001b[0;34m]\u001b[0m \u001b[0;32mis\u001b[0m \u001b[0;32mnot\u001b[0m \u001b[0;32mNone\u001b[0m\u001b[0;34m:\u001b[0m\u001b[0;34m\u001b[0m\u001b[0m\n\u001b[1;32m     47\u001b[0m             \u001b[0mkwargs\u001b[0m\u001b[0;34m.\u001b[0m\u001b[0mupdate\u001b[0m\u001b[0;34m(\u001b[0m\u001b[0;34m{\u001b[0m\u001b[0;34m'column_index'\u001b[0m\u001b[0;34m:\u001b[0m \u001b[0mdataset_args\u001b[0m\u001b[0;34m[\u001b[0m\u001b[0;34m'column_index'\u001b[0m\u001b[0;34m]\u001b[0m\u001b[0;34m}\u001b[0m\u001b[0;34m)\u001b[0m\u001b[0;34m\u001b[0m\u001b[0m\n\u001b[0;32m---> 48\u001b[0;31m         \u001b[0mdata\u001b[0m \u001b[0;34m=\u001b[0m \u001b[0mDataset\u001b[0m\u001b[0;34m(\u001b[0m\u001b[0mdataset_args\u001b[0m\u001b[0;34m[\u001b[0m\u001b[0;34m'code'\u001b[0m\u001b[0;34m]\u001b[0m\u001b[0;34m)\u001b[0m\u001b[0;34m.\u001b[0m\u001b[0mdata\u001b[0m\u001b[0;34m(\u001b[0m\u001b[0mparams\u001b[0m\u001b[0;34m=\u001b[0m\u001b[0mkwargs\u001b[0m\u001b[0;34m,\u001b[0m \u001b[0mhandle_column_not_found\u001b[0m\u001b[0;34m=\u001b[0m\u001b[0;32mTrue\u001b[0m\u001b[0;34m)\u001b[0m\u001b[0;34m\u001b[0m\u001b[0m\n\u001b[0m\u001b[1;32m     49\u001b[0m     \u001b[0;31m# Array\u001b[0m\u001b[0;34m\u001b[0m\u001b[0;34m\u001b[0m\u001b[0m\n\u001b[1;32m     50\u001b[0m     \u001b[0;32melif\u001b[0m \u001b[0misinstance\u001b[0m\u001b[0;34m(\u001b[0m\u001b[0mdataset\u001b[0m\u001b[0;34m,\u001b[0m \u001b[0mlist\u001b[0m\u001b[0;34m)\u001b[0m\u001b[0;34m:\u001b[0m\u001b[0;34m\u001b[0m\u001b[0m\n",
      "\u001b[0;32m~/.venv/jns/lib/python3.5/site-packages/quandl/model/dataset.py\u001b[0m in \u001b[0;36mdata\u001b[0;34m(self, **options)\u001b[0m\n\u001b[1;32m     45\u001b[0m         \u001b[0mupdated_options\u001b[0m \u001b[0;34m=\u001b[0m \u001b[0mUtil\u001b[0m\u001b[0;34m.\u001b[0m\u001b[0mmerge_options\u001b[0m\u001b[0;34m(\u001b[0m\u001b[0;34m'params'\u001b[0m\u001b[0;34m,\u001b[0m \u001b[0mparams\u001b[0m\u001b[0;34m,\u001b[0m \u001b[0;34m**\u001b[0m\u001b[0moptions\u001b[0m\u001b[0;34m)\u001b[0m\u001b[0;34m\u001b[0m\u001b[0m\n\u001b[1;32m     46\u001b[0m         \u001b[0;32mtry\u001b[0m\u001b[0;34m:\u001b[0m\u001b[0;34m\u001b[0m\u001b[0m\n\u001b[0;32m---> 47\u001b[0;31m             \u001b[0;32mreturn\u001b[0m \u001b[0mData\u001b[0m\u001b[0;34m.\u001b[0m\u001b[0mall\u001b[0m\u001b[0;34m(\u001b[0m\u001b[0;34m**\u001b[0m\u001b[0mupdated_options\u001b[0m\u001b[0;34m)\u001b[0m\u001b[0;34m\u001b[0m\u001b[0m\n\u001b[0m\u001b[1;32m     48\u001b[0m         \u001b[0;32mexcept\u001b[0m \u001b[0mNotFoundError\u001b[0m\u001b[0;34m:\u001b[0m\u001b[0;34m\u001b[0m\u001b[0m\n\u001b[1;32m     49\u001b[0m             \u001b[0;32mif\u001b[0m \u001b[0mhandle_not_found_error\u001b[0m\u001b[0;34m:\u001b[0m\u001b[0;34m\u001b[0m\u001b[0m\n",
      "\u001b[0;32m~/.venv/jns/lib/python3.5/site-packages/quandl/operations/list.py\u001b[0m in \u001b[0;36mall\u001b[0;34m(cls, **options)\u001b[0m\n\u001b[1;32m     13\u001b[0m             \u001b[0moptions\u001b[0m\u001b[0;34m[\u001b[0m\u001b[0;34m'params'\u001b[0m\u001b[0;34m]\u001b[0m \u001b[0;34m=\u001b[0m \u001b[0;34m{\u001b[0m\u001b[0;34m}\u001b[0m\u001b[0;34m\u001b[0m\u001b[0m\n\u001b[1;32m     14\u001b[0m         \u001b[0mpath\u001b[0m \u001b[0;34m=\u001b[0m \u001b[0mUtil\u001b[0m\u001b[0;34m.\u001b[0m\u001b[0mconstructed_path\u001b[0m\u001b[0;34m(\u001b[0m\u001b[0mcls\u001b[0m\u001b[0;34m.\u001b[0m\u001b[0mlist_path\u001b[0m\u001b[0;34m(\u001b[0m\u001b[0;34m)\u001b[0m\u001b[0;34m,\u001b[0m \u001b[0moptions\u001b[0m\u001b[0;34m[\u001b[0m\u001b[0;34m'params'\u001b[0m\u001b[0;34m]\u001b[0m\u001b[0;34m)\u001b[0m\u001b[0;34m\u001b[0m\u001b[0m\n\u001b[0;32m---> 15\u001b[0;31m         \u001b[0mr\u001b[0m \u001b[0;34m=\u001b[0m \u001b[0mConnection\u001b[0m\u001b[0;34m.\u001b[0m\u001b[0mrequest\u001b[0m\u001b[0;34m(\u001b[0m\u001b[0;34m'get'\u001b[0m\u001b[0;34m,\u001b[0m \u001b[0mpath\u001b[0m\u001b[0;34m,\u001b[0m \u001b[0;34m**\u001b[0m\u001b[0moptions\u001b[0m\u001b[0;34m)\u001b[0m\u001b[0;34m\u001b[0m\u001b[0m\n\u001b[0m\u001b[1;32m     16\u001b[0m         \u001b[0mresponse_data\u001b[0m \u001b[0;34m=\u001b[0m \u001b[0mr\u001b[0m\u001b[0;34m.\u001b[0m\u001b[0mjson\u001b[0m\u001b[0;34m(\u001b[0m\u001b[0;34m)\u001b[0m\u001b[0;34m\u001b[0m\u001b[0m\n\u001b[1;32m     17\u001b[0m         \u001b[0mUtil\u001b[0m\u001b[0;34m.\u001b[0m\u001b[0mconvert_to_dates\u001b[0m\u001b[0;34m(\u001b[0m\u001b[0mresponse_data\u001b[0m\u001b[0;34m)\u001b[0m\u001b[0;34m\u001b[0m\u001b[0m\n",
      "\u001b[0;32m~/.venv/jns/lib/python3.5/site-packages/quandl/connection.py\u001b[0m in \u001b[0;36mrequest\u001b[0;34m(cls, http_verb, url, **options)\u001b[0m\n\u001b[1;32m     36\u001b[0m         \u001b[0mabs_url\u001b[0m \u001b[0;34m=\u001b[0m \u001b[0;34m'%s/%s'\u001b[0m \u001b[0;34m%\u001b[0m \u001b[0;34m(\u001b[0m\u001b[0mApiConfig\u001b[0m\u001b[0;34m.\u001b[0m\u001b[0mapi_base\u001b[0m\u001b[0;34m,\u001b[0m \u001b[0murl\u001b[0m\u001b[0;34m)\u001b[0m\u001b[0;34m\u001b[0m\u001b[0m\n\u001b[1;32m     37\u001b[0m \u001b[0;34m\u001b[0m\u001b[0m\n\u001b[0;32m---> 38\u001b[0;31m         \u001b[0;32mreturn\u001b[0m \u001b[0mcls\u001b[0m\u001b[0;34m.\u001b[0m\u001b[0mexecute_request\u001b[0m\u001b[0;34m(\u001b[0m\u001b[0mhttp_verb\u001b[0m\u001b[0;34m,\u001b[0m \u001b[0mabs_url\u001b[0m\u001b[0;34m,\u001b[0m \u001b[0;34m**\u001b[0m\u001b[0moptions\u001b[0m\u001b[0;34m)\u001b[0m\u001b[0;34m\u001b[0m\u001b[0m\n\u001b[0m\u001b[1;32m     39\u001b[0m \u001b[0;34m\u001b[0m\u001b[0m\n\u001b[1;32m     40\u001b[0m     \u001b[0;34m@\u001b[0m\u001b[0mclassmethod\u001b[0m\u001b[0;34m\u001b[0m\u001b[0m\n",
      "\u001b[0;32m~/.venv/jns/lib/python3.5/site-packages/quandl/connection.py\u001b[0m in \u001b[0;36mexecute_request\u001b[0;34m(cls, http_verb, url, **options)\u001b[0m\n\u001b[1;32m     45\u001b[0m             \u001b[0mresponse\u001b[0m \u001b[0;34m=\u001b[0m \u001b[0msession\u001b[0m\u001b[0;34m.\u001b[0m\u001b[0mrequest\u001b[0m\u001b[0;34m(\u001b[0m\u001b[0mmethod\u001b[0m\u001b[0;34m=\u001b[0m\u001b[0mhttp_verb\u001b[0m\u001b[0;34m,\u001b[0m \u001b[0murl\u001b[0m\u001b[0;34m=\u001b[0m\u001b[0murl\u001b[0m\u001b[0;34m,\u001b[0m \u001b[0;34m**\u001b[0m\u001b[0moptions\u001b[0m\u001b[0;34m)\u001b[0m\u001b[0;34m\u001b[0m\u001b[0m\n\u001b[1;32m     46\u001b[0m             \u001b[0;32mif\u001b[0m \u001b[0mresponse\u001b[0m\u001b[0;34m.\u001b[0m\u001b[0mstatus_code\u001b[0m \u001b[0;34m<\u001b[0m \u001b[0;36m200\u001b[0m \u001b[0;32mor\u001b[0m \u001b[0mresponse\u001b[0m\u001b[0;34m.\u001b[0m\u001b[0mstatus_code\u001b[0m \u001b[0;34m>=\u001b[0m \u001b[0;36m300\u001b[0m\u001b[0;34m:\u001b[0m\u001b[0;34m\u001b[0m\u001b[0m\n\u001b[0;32m---> 47\u001b[0;31m                 \u001b[0mcls\u001b[0m\u001b[0;34m.\u001b[0m\u001b[0mhandle_api_error\u001b[0m\u001b[0;34m(\u001b[0m\u001b[0mresponse\u001b[0m\u001b[0;34m)\u001b[0m\u001b[0;34m\u001b[0m\u001b[0m\n\u001b[0m\u001b[1;32m     48\u001b[0m             \u001b[0;32melse\u001b[0m\u001b[0;34m:\u001b[0m\u001b[0;34m\u001b[0m\u001b[0m\n\u001b[1;32m     49\u001b[0m                 \u001b[0;32mreturn\u001b[0m \u001b[0mresponse\u001b[0m\u001b[0;34m\u001b[0m\u001b[0m\n",
      "\u001b[0;32m~/.venv/jns/lib/python3.5/site-packages/quandl/connection.py\u001b[0m in \u001b[0;36mhandle_api_error\u001b[0;34m(cls, resp)\u001b[0m\n\u001b[1;32m    109\u001b[0m         \u001b[0mklass\u001b[0m \u001b[0;34m=\u001b[0m \u001b[0md_klass\u001b[0m\u001b[0;34m.\u001b[0m\u001b[0mget\u001b[0m\u001b[0;34m(\u001b[0m\u001b[0mcode_letter\u001b[0m\u001b[0;34m,\u001b[0m \u001b[0mQuandlError\u001b[0m\u001b[0;34m)\u001b[0m\u001b[0;34m\u001b[0m\u001b[0m\n\u001b[1;32m    110\u001b[0m \u001b[0;34m\u001b[0m\u001b[0m\n\u001b[0;32m--> 111\u001b[0;31m         \u001b[0;32mraise\u001b[0m \u001b[0mklass\u001b[0m\u001b[0;34m(\u001b[0m\u001b[0mmessage\u001b[0m\u001b[0;34m,\u001b[0m \u001b[0mresp\u001b[0m\u001b[0;34m.\u001b[0m\u001b[0mstatus_code\u001b[0m\u001b[0;34m,\u001b[0m \u001b[0mresp\u001b[0m\u001b[0;34m.\u001b[0m\u001b[0mtext\u001b[0m\u001b[0;34m,\u001b[0m \u001b[0mresp\u001b[0m\u001b[0;34m.\u001b[0m\u001b[0mheaders\u001b[0m\u001b[0;34m,\u001b[0m \u001b[0mcode\u001b[0m\u001b[0;34m)\u001b[0m\u001b[0;34m\u001b[0m\u001b[0m\n\u001b[0m",
      "\u001b[0;31mLimitExceededError\u001b[0m: (Status 429) (Quandl Error QELx01) You have exceeded the anonymous user limit of 50 calls per day. To make more calls today, please register for a free Quandl account and then include your API key with your requests."
     ]
    }
   ],
   "source": [
    "# We will look at stock prices over the past year, starting at January 1, 2016\n",
    "start = datetime.datetime(2018,12,1)\n",
    "end = datetime.date.today() #time(2019,2,28) #date.today()\n",
    " \n",
    "# Let's get Apple stock data; Apple's ticker symbol is AAPL\n",
    "# First argument is the series we want, second is the source (\"yahoo\" for Yahoo! Finance), third is the start date, fourth is the end date\n",
    "s = \"NVDA\"\n",
    "dataset = quandl.get(\"WIKI/\" + s, start_date=start, end_date=end)\n",
    " \n",
    "type(dataset)\n",
    "\n",
    "dataset.head()\n",
    "\n",
    "\n"
   ]
  },
  {
   "cell_type": "code",
   "execution_count": 5,
   "metadata": {},
   "outputs": [
    {
     "data": {
      "text/html": [
       "<div>\n",
       "<style scoped>\n",
       "    .dataframe tbody tr th:only-of-type {\n",
       "        vertical-align: middle;\n",
       "    }\n",
       "\n",
       "    .dataframe tbody tr th {\n",
       "        vertical-align: top;\n",
       "    }\n",
       "\n",
       "    .dataframe thead tr th {\n",
       "        text-align: left;\n",
       "    }\n",
       "\n",
       "    .dataframe thead tr:last-of-type th {\n",
       "        text-align: right;\n",
       "    }\n",
       "</style>\n",
       "<table border=\"1\" class=\"dataframe\">\n",
       "  <thead>\n",
       "    <tr>\n",
       "      <th>Attributes</th>\n",
       "      <th>High</th>\n",
       "      <th>Low</th>\n",
       "      <th>Open</th>\n",
       "      <th>Close</th>\n",
       "      <th>Volume</th>\n",
       "      <th>Adj Close</th>\n",
       "    </tr>\n",
       "    <tr>\n",
       "      <th>Symbols</th>\n",
       "      <th>NVDA</th>\n",
       "      <th>NVDA</th>\n",
       "      <th>NVDA</th>\n",
       "      <th>NVDA</th>\n",
       "      <th>NVDA</th>\n",
       "      <th>NVDA</th>\n",
       "    </tr>\n",
       "    <tr>\n",
       "      <th>Date</th>\n",
       "      <th></th>\n",
       "      <th></th>\n",
       "      <th></th>\n",
       "      <th></th>\n",
       "      <th></th>\n",
       "      <th></th>\n",
       "    </tr>\n",
       "  </thead>\n",
       "  <tbody>\n",
       "    <tr>\n",
       "      <th>2012-01-03</th>\n",
       "      <td>14.40</td>\n",
       "      <td>14.01</td>\n",
       "      <td>14.30</td>\n",
       "      <td>14.04</td>\n",
       "      <td>11701100.0</td>\n",
       "      <td>12.922127</td>\n",
       "    </tr>\n",
       "    <tr>\n",
       "      <th>2012-01-04</th>\n",
       "      <td>14.26</td>\n",
       "      <td>13.92</td>\n",
       "      <td>14.05</td>\n",
       "      <td>14.20</td>\n",
       "      <td>8684300.0</td>\n",
       "      <td>13.069386</td>\n",
       "    </tr>\n",
       "    <tr>\n",
       "      <th>2012-01-05</th>\n",
       "      <td>14.78</td>\n",
       "      <td>14.07</td>\n",
       "      <td>14.13</td>\n",
       "      <td>14.71</td>\n",
       "      <td>14088700.0</td>\n",
       "      <td>13.538781</td>\n",
       "    </tr>\n",
       "    <tr>\n",
       "      <th>2012-01-06</th>\n",
       "      <td>14.71</td>\n",
       "      <td>14.37</td>\n",
       "      <td>14.70</td>\n",
       "      <td>14.54</td>\n",
       "      <td>13331300.0</td>\n",
       "      <td>13.382315</td>\n",
       "    </tr>\n",
       "    <tr>\n",
       "      <th>2012-01-09</th>\n",
       "      <td>14.82</td>\n",
       "      <td>14.44</td>\n",
       "      <td>14.55</td>\n",
       "      <td>14.54</td>\n",
       "      <td>12706100.0</td>\n",
       "      <td>13.382315</td>\n",
       "    </tr>\n",
       "  </tbody>\n",
       "</table>\n",
       "</div>"
      ],
      "text/plain": [
       "Attributes   High    Low   Open  Close      Volume  Adj Close\n",
       "Symbols      NVDA   NVDA   NVDA   NVDA        NVDA       NVDA\n",
       "Date                                                         \n",
       "2012-01-03  14.40  14.01  14.30  14.04  11701100.0  12.922127\n",
       "2012-01-04  14.26  13.92  14.05  14.20   8684300.0  13.069386\n",
       "2012-01-05  14.78  14.07  14.13  14.71  14088700.0  13.538781\n",
       "2012-01-06  14.71  14.37  14.70  14.54  13331300.0  13.382315\n",
       "2012-01-09  14.82  14.44  14.55  14.54  12706100.0  13.382315"
      ]
     },
     "execution_count": 5,
     "metadata": {},
     "output_type": "execute_result"
    }
   ],
   "source": [
    "# Define the instruments to download. We would like to see Apple, Microsoft and the S&P500 index.\n",
    "ticker = ['NVDA'] #, 'MSFT', '^GSPC']\n",
    "start_date = datetime.datetime(2012,1,1)\n",
    "end_date = datetime.date.today() #time(2019,3,1) #today() #datetime(2016,12,30) #date.today()\n",
    "\n",
    "# User pandas_reader.data.DataReader to load the desired data. As simple as that.\n",
    "dataset = data.DataReader(ticker, 'yahoo', start_date, end_date)\n",
    "\n",
    "type(dataset)\n",
    "\n",
    "dataset.head()\n",
    "\n",
    "#print(panel_data)\n",
    "# p_d = panel_data.iloc[:, 1:2].values\n",
    "#panel_data.head()"
   ]
  },
  {
   "cell_type": "code",
   "execution_count": 6,
   "metadata": {
    "scrolled": false
   },
   "outputs": [
    {
     "data": {
      "text/plain": [
       "Attributes  Symbols\n",
       "High        NVDA       False\n",
       "Low         NVDA       False\n",
       "Open        NVDA       False\n",
       "Close       NVDA       False\n",
       "Volume      NVDA       False\n",
       "Adj Close   NVDA       False\n",
       "dtype: bool"
      ]
     },
     "execution_count": 6,
     "metadata": {},
     "output_type": "execute_result"
    }
   ],
   "source": [
    "dataset.isna().any()\n"
   ]
  },
  {
   "cell_type": "code",
   "execution_count": 7,
   "metadata": {},
   "outputs": [
    {
     "name": "stdout",
     "output_type": "stream",
     "text": [
      "<class 'pandas.core.frame.DataFrame'>\n",
      "DatetimeIndex: 2069 entries, 2012-01-03 to 2020-03-24\n",
      "Data columns (total 6 columns):\n",
      "(High, NVDA)         2069 non-null float64\n",
      "(Low, NVDA)          2069 non-null float64\n",
      "(Open, NVDA)         2069 non-null float64\n",
      "(Close, NVDA)        2069 non-null float64\n",
      "(Volume, NVDA)       2069 non-null float64\n",
      "(Adj Close, NVDA)    2069 non-null float64\n",
      "dtypes: float64(6)\n",
      "memory usage: 113.1 KB\n"
     ]
    }
   ],
   "source": [
    "dataset.info()"
   ]
  },
  {
   "cell_type": "code",
   "execution_count": 8,
   "metadata": {},
   "outputs": [
    {
     "data": {
      "text/plain": [
       "<matplotlib.axes._subplots.AxesSubplot at 0x66f12cf0>"
      ]
     },
     "execution_count": 8,
     "metadata": {},
     "output_type": "execute_result"
    },
    {
     "data": {
      "image/png": "[encoded data removed]",
      "text/plain": [
       "<Figure size 1152x432 with 1 Axes>"
      ]
     },
     "metadata": {
      "needs_background": "light"
     },
     "output_type": "display_data"
    }
   ],
   "source": [
    "dataset['Close'].plot(figsize=(16,6))"
   ]
  },
  {
   "cell_type": "code",
   "execution_count": 10,
   "metadata": {
    "scrolled": true
   },
   "outputs": [],
   "source": [
    "# convert column \"a\" of a DataFrame\n",
    "dataset[\"Close\"] = dataset[\"Close\"].replace(',', '').astype(float)"
   ]
  },
  {
   "cell_type": "code",
   "execution_count": 11,
   "metadata": {},
   "outputs": [
    {
     "data": {
      "text/html": [
       "<div>\n",
       "<style scoped>\n",
       "    .dataframe tbody tr th:only-of-type {\n",
       "        vertical-align: middle;\n",
       "    }\n",
       "\n",
       "    .dataframe tbody tr th {\n",
       "        vertical-align: top;\n",
       "    }\n",
       "\n",
       "    .dataframe thead tr th {\n",
       "        text-align: left;\n",
       "    }\n",
       "\n",
       "    .dataframe thead tr:last-of-type th {\n",
       "        text-align: right;\n",
       "    }\n",
       "</style>\n",
       "<table border=\"1\" class=\"dataframe\">\n",
       "  <thead>\n",
       "    <tr>\n",
       "      <th>Attributes</th>\n",
       "      <th>High</th>\n",
       "      <th>Low</th>\n",
       "      <th>Open</th>\n",
       "      <th>Close</th>\n",
       "      <th>Volume</th>\n",
       "      <th>Adj Close</th>\n",
       "    </tr>\n",
       "    <tr>\n",
       "      <th>Symbols</th>\n",
       "      <th>NVDA</th>\n",
       "      <th>NVDA</th>\n",
       "      <th>NVDA</th>\n",
       "      <th>NVDA</th>\n",
       "      <th>NVDA</th>\n",
       "      <th>NVDA</th>\n",
       "    </tr>\n",
       "    <tr>\n",
       "      <th>Date</th>\n",
       "      <th></th>\n",
       "      <th></th>\n",
       "      <th></th>\n",
       "      <th></th>\n",
       "      <th></th>\n",
       "      <th></th>\n",
       "    </tr>\n",
       "  </thead>\n",
       "  <tbody>\n",
       "    <tr>\n",
       "      <th>2012-01-03</th>\n",
       "      <td>NaN</td>\n",
       "      <td>NaN</td>\n",
       "      <td>NaN</td>\n",
       "      <td>NaN</td>\n",
       "      <td>NaN</td>\n",
       "      <td>NaN</td>\n",
       "    </tr>\n",
       "    <tr>\n",
       "      <th>2012-01-04</th>\n",
       "      <td>NaN</td>\n",
       "      <td>NaN</td>\n",
       "      <td>NaN</td>\n",
       "      <td>NaN</td>\n",
       "      <td>NaN</td>\n",
       "      <td>NaN</td>\n",
       "    </tr>\n",
       "    <tr>\n",
       "      <th>2012-01-05</th>\n",
       "      <td>NaN</td>\n",
       "      <td>NaN</td>\n",
       "      <td>NaN</td>\n",
       "      <td>NaN</td>\n",
       "      <td>NaN</td>\n",
       "      <td>NaN</td>\n",
       "    </tr>\n",
       "    <tr>\n",
       "      <th>2012-01-06</th>\n",
       "      <td>NaN</td>\n",
       "      <td>NaN</td>\n",
       "      <td>NaN</td>\n",
       "      <td>NaN</td>\n",
       "      <td>NaN</td>\n",
       "      <td>NaN</td>\n",
       "    </tr>\n",
       "    <tr>\n",
       "      <th>2012-01-09</th>\n",
       "      <td>NaN</td>\n",
       "      <td>NaN</td>\n",
       "      <td>NaN</td>\n",
       "      <td>NaN</td>\n",
       "      <td>NaN</td>\n",
       "      <td>NaN</td>\n",
       "    </tr>\n",
       "    <tr>\n",
       "      <th>2012-01-10</th>\n",
       "      <td>NaN</td>\n",
       "      <td>NaN</td>\n",
       "      <td>NaN</td>\n",
       "      <td>NaN</td>\n",
       "      <td>NaN</td>\n",
       "      <td>NaN</td>\n",
       "    </tr>\n",
       "    <tr>\n",
       "      <th>2012-01-11</th>\n",
       "      <td>14.602857</td>\n",
       "      <td>14.188571</td>\n",
       "      <td>14.405714</td>\n",
       "      <td>14.385714</td>\n",
       "      <td>1.232521e+07</td>\n",
       "      <td>13.240314</td>\n",
       "    </tr>\n",
       "    <tr>\n",
       "      <th>2012-01-12</th>\n",
       "      <td>14.578571</td>\n",
       "      <td>14.157143</td>\n",
       "      <td>14.394286</td>\n",
       "      <td>14.394286</td>\n",
       "      <td>1.298350e+07</td>\n",
       "      <td>13.248203</td>\n",
       "    </tr>\n",
       "    <tr>\n",
       "      <th>2012-01-13</th>\n",
       "      <td>14.545714</td>\n",
       "      <td>14.120000</td>\n",
       "      <td>14.387143</td>\n",
       "      <td>14.327143</td>\n",
       "      <td>1.354396e+07</td>\n",
       "      <td>13.186406</td>\n",
       "    </tr>\n",
       "    <tr>\n",
       "      <th>2012-01-17</th>\n",
       "      <td>14.425714</td>\n",
       "      <td>14.038571</td>\n",
       "      <td>14.360000</td>\n",
       "      <td>14.157143</td>\n",
       "      <td>1.377120e+07</td>\n",
       "      <td>13.029942</td>\n",
       "    </tr>\n",
       "    <tr>\n",
       "      <th>2012-01-18</th>\n",
       "      <td>14.337143</td>\n",
       "      <td>13.944286</td>\n",
       "      <td>14.228571</td>\n",
       "      <td>14.077143</td>\n",
       "      <td>1.412629e+07</td>\n",
       "      <td>12.956311</td>\n",
       "    </tr>\n",
       "    <tr>\n",
       "      <th>2012-01-19</th>\n",
       "      <td>14.272857</td>\n",
       "      <td>13.874286</td>\n",
       "      <td>14.164286</td>\n",
       "      <td>14.050000</td>\n",
       "      <td>1.448367e+07</td>\n",
       "      <td>12.931330</td>\n",
       "    </tr>\n",
       "    <tr>\n",
       "      <th>2012-01-20</th>\n",
       "      <td>14.234285</td>\n",
       "      <td>13.844286</td>\n",
       "      <td>14.102857</td>\n",
       "      <td>14.012857</td>\n",
       "      <td>1.448347e+07</td>\n",
       "      <td>12.897144</td>\n",
       "    </tr>\n",
       "    <tr>\n",
       "      <th>2012-01-23</th>\n",
       "      <td>14.254286</td>\n",
       "      <td>13.832857</td>\n",
       "      <td>14.085714</td>\n",
       "      <td>14.072857</td>\n",
       "      <td>1.476390e+07</td>\n",
       "      <td>12.952367</td>\n",
       "    </tr>\n",
       "    <tr>\n",
       "      <th>2012-01-24</th>\n",
       "      <td>14.364286</td>\n",
       "      <td>13.934286</td>\n",
       "      <td>14.127143</td>\n",
       "      <td>14.192857</td>\n",
       "      <td>1.504446e+07</td>\n",
       "      <td>13.062812</td>\n",
       "    </tr>\n",
       "    <tr>\n",
       "      <th>2012-01-25</th>\n",
       "      <td>14.487143</td>\n",
       "      <td>14.000000</td>\n",
       "      <td>14.204286</td>\n",
       "      <td>14.352857</td>\n",
       "      <td>1.779393e+07</td>\n",
       "      <td>13.210073</td>\n",
       "    </tr>\n",
       "    <tr>\n",
       "      <th>2012-01-26</th>\n",
       "      <td>14.672857</td>\n",
       "      <td>14.161429</td>\n",
       "      <td>14.365714</td>\n",
       "      <td>14.522857</td>\n",
       "      <td>1.840999e+07</td>\n",
       "      <td>13.366538</td>\n",
       "    </tr>\n",
       "    <tr>\n",
       "      <th>2012-01-27</th>\n",
       "      <td>14.801429</td>\n",
       "      <td>14.274286</td>\n",
       "      <td>14.485714</td>\n",
       "      <td>14.655714</td>\n",
       "      <td>1.775756e+07</td>\n",
       "      <td>13.488816</td>\n",
       "    </tr>\n",
       "    <tr>\n",
       "      <th>2012-01-30</th>\n",
       "      <td>14.872857</td>\n",
       "      <td>14.342857</td>\n",
       "      <td>14.564286</td>\n",
       "      <td>14.720000</td>\n",
       "      <td>1.701029e+07</td>\n",
       "      <td>13.547983</td>\n",
       "    </tr>\n",
       "    <tr>\n",
       "      <th>2012-01-31</th>\n",
       "      <td>14.922857</td>\n",
       "      <td>14.391429</td>\n",
       "      <td>14.637143</td>\n",
       "      <td>14.798571</td>\n",
       "      <td>1.633753e+07</td>\n",
       "      <td>13.620299</td>\n",
       "    </tr>\n",
       "  </tbody>\n",
       "</table>\n",
       "</div>"
      ],
      "text/plain": [
       "Attributes       High        Low       Open      Close        Volume  \\\n",
       "Symbols          NVDA       NVDA       NVDA       NVDA          NVDA   \n",
       "Date                                                                   \n",
       "2012-01-03        NaN        NaN        NaN        NaN           NaN   \n",
       "2012-01-04        NaN        NaN        NaN        NaN           NaN   \n",
       "2012-01-05        NaN        NaN        NaN        NaN           NaN   \n",
       "2012-01-06        NaN        NaN        NaN        NaN           NaN   \n",
       "2012-01-09        NaN        NaN        NaN        NaN           NaN   \n",
       "2012-01-10        NaN        NaN        NaN        NaN           NaN   \n",
       "2012-01-11  14.602857  14.188571  14.405714  14.385714  1.232521e+07   \n",
       "2012-01-12  14.578571  14.157143  14.394286  14.394286  1.298350e+07   \n",
       "2012-01-13  14.545714  14.120000  14.387143  14.327143  1.354396e+07   \n",
       "2012-01-17  14.425714  14.038571  14.360000  14.157143  1.377120e+07   \n",
       "2012-01-18  14.337143  13.944286  14.228571  14.077143  1.412629e+07   \n",
       "2012-01-19  14.272857  13.874286  14.164286  14.050000  1.448367e+07   \n",
       "2012-01-20  14.234285  13.844286  14.102857  14.012857  1.448347e+07   \n",
       "2012-01-23  14.254286  13.832857  14.085714  14.072857  1.476390e+07   \n",
       "2012-01-24  14.364286  13.934286  14.127143  14.192857  1.504446e+07   \n",
       "2012-01-25  14.487143  14.000000  14.204286  14.352857  1.779393e+07   \n",
       "2012-01-26  14.672857  14.161429  14.365714  14.522857  1.840999e+07   \n",
       "2012-01-27  14.801429  14.274286  14.485714  14.655714  1.775756e+07   \n",
       "2012-01-30  14.872857  14.342857  14.564286  14.720000  1.701029e+07   \n",
       "2012-01-31  14.922857  14.391429  14.637143  14.798571  1.633753e+07   \n",
       "\n",
       "Attributes  Adj Close  \n",
       "Symbols          NVDA  \n",
       "Date                   \n",
       "2012-01-03        NaN  \n",
       "2012-01-04        NaN  \n",
       "2012-01-05        NaN  \n",
       "2012-01-06        NaN  \n",
       "2012-01-09        NaN  \n",
       "2012-01-10        NaN  \n",
       "2012-01-11  13.240314  \n",
       "2012-01-12  13.248203  \n",
       "2012-01-13  13.186406  \n",
       "2012-01-17  13.029942  \n",
       "2012-01-18  12.956311  \n",
       "2012-01-19  12.931330  \n",
       "2012-01-20  12.897144  \n",
       "2012-01-23  12.952367  \n",
       "2012-01-24  13.062812  \n",
       "2012-01-25  13.210073  \n",
       "2012-01-26  13.366538  \n",
       "2012-01-27  13.488816  \n",
       "2012-01-30  13.547983  \n",
       "2012-01-31  13.620299  "
      ]
     },
     "execution_count": 11,
     "metadata": {},
     "output_type": "execute_result"
    }
   ],
   "source": [
    "# 7 day rolling mean\n",
    "dataset.rolling(7).mean().head(20)"
   ]
  },
  {
   "cell_type": "code",
   "execution_count": 12,
   "metadata": {},
   "outputs": [
    {
     "data": {
      "text/plain": [
       "<matplotlib.axes._subplots.AxesSubplot at 0x66d731b0>"
      ]
     },
     "execution_count": 12,
     "metadata": {},
     "output_type": "execute_result"
    },
    {
     "data": {
      "image/png": "[encoded data removed]",
      "text/plain": [
       "<Figure size 1152x432 with 1 Axes>"
      ]
     },
     "metadata": {
      "needs_background": "light"
     },
     "output_type": "display_data"
    },
    {
     "data": {
      "image/png": "[encoded data removed]",
      "text/plain": [
       "<Figure size 432x288 with 1 Axes>"
      ]
     },
     "metadata": {
      "needs_background": "light"
     },
     "output_type": "display_data"
    }
   ],
   "source": [
    "dataset['Open'].plot(figsize=(16,6))\n",
    "dataset.rolling(window=30).mean()['Close'].plot()"
   ]
  },
  {
   "cell_type": "code",
   "execution_count": 13,
   "metadata": {
    "scrolled": true
   },
   "outputs": [
    {
     "data": {
      "text/plain": [
       "<matplotlib.axes._subplots.AxesSubplot at 0x66e4b7b0>"
      ]
     },
     "execution_count": 13,
     "metadata": {},
     "output_type": "execute_result"
    },
    {
     "data": {
      "image/png": "[encoded data removed]",
      "text/plain": [
       "<Figure size 1152x432 with 1 Axes>"
      ]
     },
     "metadata": {
      "needs_background": "light"
     },
     "output_type": "display_data"
    }
   ],
   "source": [
    "dataset['Close: 30 Day Mean'] = dataset['Close'].rolling(window=30).mean()\n",
    "dataset[['Close','Close: 30 Day Mean']].plot(figsize=(16,6))"
   ]
  },
  {
   "cell_type": "code",
   "execution_count": 14,
   "metadata": {},
   "outputs": [
    {
     "data": {
      "text/plain": [
       "<matplotlib.axes._subplots.AxesSubplot at 0x66e3de10>"
      ]
     },
     "execution_count": 14,
     "metadata": {},
     "output_type": "execute_result"
    },
    {
     "data": {
      "image/png": "[encoded data removed]",
      "text/plain": [
       "<Figure size 1152x432 with 1 Axes>"
      ]
     },
     "metadata": {
      "needs_background": "light"
     },
     "output_type": "display_data"
    }
   ],
   "source": [
    "# Optional specify a minimum number of periods\n",
    "dataset['Close'].expanding(min_periods=1).mean().plot(figsize=(16,6))"
   ]
  },
  {
   "cell_type": "code",
   "execution_count": 16,
   "metadata": {},
   "outputs": [],
   "source": [
    "training_set=dataset['Open']\n",
    "training_set=pd.DataFrame(training_set)"
   ]
  },
  {
   "cell_type": "code",
   "execution_count": 17,
   "metadata": {},
   "outputs": [
    {
     "name": "stdout",
     "output_type": "stream",
     "text": [
      "<class 'pandas.core.frame.DataFrame'>\n",
      "DatetimeIndex: 1820 entries, 2012-01-03 to 2019-03-28\n",
      "Data columns (total 1 columns):\n",
      "NVDA    1820 non-null float64\n",
      "dtypes: float64(1)\n",
      "memory usage: 28.4 KB\n"
     ]
    }
   ],
   "source": [
    "training_set.info()"
   ]
  },
  {
   "cell_type": "code",
   "execution_count": 18,
   "metadata": {},
   "outputs": [],
   "source": [
    "from sklearn.preprocessing import MinMaxScaler\n",
    "sc = MinMaxScaler(feature_range = (0, 1))\n",
    "training_set_scaled = sc.fit_transform(training_set)\n",
    "\n",
    "# Creating a data structure with 60 timesteps and 1 output\n",
    "X_train = []\n",
    "y_train = []\n",
    "for i in range(60, 1820):\n",
    "    X_train.append(training_set_scaled[i-60:i, 0])\n",
    "    y_train.append(training_set_scaled[i, 0])\n",
    "X_train, y_train = np.array(X_train), np.array(y_train)\n",
    "\n",
    "# Reshaping\n",
    "X_train = np.reshape(X_train, (X_train.shape[0], X_train.shape[1], 1))"
   ]
  },
  {
   "cell_type": "code",
   "execution_count": 19,
   "metadata": {},
   "outputs": [],
   "source": [
    "#Building the RNN LSTM model\n",
    "# Importing the Keras libraries and packages\n",
    "from keras.models import Sequential\n",
    "from keras.wrappers.scikit_learn import KerasRegressor\n",
    "from keras.layers import Dense, Activation\n",
    "from keras.layers import LSTM\n",
    "from keras.layers import Dropout"
   ]
  },
  {
   "cell_type": "code",
   "execution_count": 20,
   "metadata": {},
   "outputs": [],
   "source": [
    "# Initialising the RNN\n",
    "regressor = Sequential()"
   ]
  },
  {
   "cell_type": "code",
   "execution_count": 21,
   "metadata": {},
   "outputs": [],
   "source": [
    "\n",
    "\n",
    "# Adding the first LSTM layer and some Dropout regularisation\n",
    "regressor.add(LSTM(units = 50, return_sequences = True, input_shape = (X_train.shape[1], 1)))\n",
    "regressor.add(Dropout(0.4))\n",
    "\n",
    "# Adding a second LSTM layer and some Dropout regularisation\n",
    "regressor.add(LSTM(units = 50, return_sequences = True))\n",
    "regressor.add(Dropout(0.4))\n",
    "\n",
    "# Adding a third LSTM layer and some Dropout regularisation\n",
    "regressor.add(LSTM(units = 50, return_sequences = True))\n",
    "regressor.add(Dropout(0.4))\n",
    "\n",
    "# Adding a fourth LSTM layer and some Dropout regularisation\n",
    "regressor.add(LSTM(units = 50))\n",
    "regressor.add(Dropout(0.4))\n",
    "\n",
    "# Adding the output layer\n",
    "regressor.add(Dense(units = 1))\n",
    "\n"
   ]
  },
  {
   "cell_type": "code",
   "execution_count": 22,
   "metadata": {
    "scrolled": true
   },
   "outputs": [
    {
     "name": "stdout",
     "output_type": "stream",
     "text": [
      "Epoch 1/50\n",
      "1760/1760 [==============================] - 65s 37ms/step - loss: 0.0165\n",
      "Epoch 2/50\n",
      "1760/1760 [==============================] - 51s 29ms/step - loss: 0.0055\n",
      "Epoch 3/50\n",
      "1760/1760 [==============================] - 51s 29ms/step - loss: 0.0043\n",
      "Epoch 4/50\n",
      "1760/1760 [==============================] - 51s 29ms/step - loss: 0.0041\n",
      "Epoch 5/50\n",
      "1760/1760 [==============================] - 52s 29ms/step - loss: 0.0045\n",
      "Epoch 6/50\n",
      "1760/1760 [==============================] - 51s 29ms/step - loss: 0.0044\n",
      "Epoch 7/50\n",
      "1760/1760 [==============================] - 51s 29ms/step - loss: 0.0044\n",
      "Epoch 8/50\n",
      "1760/1760 [==============================] - 51s 29ms/step - loss: 0.0034\n",
      "Epoch 9/50\n",
      "1760/1760 [==============================] - 51s 29ms/step - loss: 0.0032\n",
      "Epoch 10/50\n",
      "1760/1760 [==============================] - 51s 29ms/step - loss: 0.0030\n",
      "Epoch 11/50\n",
      "1760/1760 [==============================] - 51s 29ms/step - loss: 0.0040\n",
      "Epoch 12/50\n",
      "1760/1760 [==============================] - 51s 29ms/step - loss: 0.0032\n",
      "Epoch 13/50\n",
      "1760/1760 [==============================] - 51s 29ms/step - loss: 0.0033\n",
      "Epoch 14/50\n",
      "1760/1760 [==============================] - 51s 29ms/step - loss: 0.0029\n",
      "Epoch 15/50\n",
      "1760/1760 [==============================] - 57s 33ms/step - loss: 0.0033\n",
      "Epoch 16/50\n",
      "1760/1760 [==============================] - 51s 29ms/step - loss: 0.0030\n",
      "Epoch 17/50\n",
      "1760/1760 [==============================] - 51s 29ms/step - loss: 0.0032\n",
      "Epoch 18/50\n",
      "1760/1760 [==============================] - 51s 29ms/step - loss: 0.0030\n",
      "Epoch 19/50\n",
      "1760/1760 [==============================] - 56s 32ms/step - loss: 0.0029\n",
      "Epoch 20/50\n",
      "1760/1760 [==============================] - 53s 30ms/step - loss: 0.0027\n",
      "Epoch 21/50\n",
      "1760/1760 [==============================] - 51s 29ms/step - loss: 0.0028\n",
      "Epoch 22/50\n",
      "1760/1760 [==============================] - 51s 29ms/step - loss: 0.0028\n",
      "Epoch 23/50\n",
      "1760/1760 [==============================] - 51s 29ms/step - loss: 0.0030\n",
      "Epoch 24/50\n",
      "1760/1760 [==============================] - 51s 29ms/step - loss: 0.0026\n",
      "Epoch 25/50\n",
      "1760/1760 [==============================] - 51s 29ms/step - loss: 0.0028\n",
      "Epoch 26/50\n",
      "1760/1760 [==============================] - 51s 29ms/step - loss: 0.0025\n",
      "Epoch 27/50\n",
      "1760/1760 [==============================] - 51s 29ms/step - loss: 0.0025\n",
      "Epoch 28/50\n",
      "1760/1760 [==============================] - 52s 29ms/step - loss: 0.0023\n",
      "Epoch 29/50\n",
      "1760/1760 [==============================] - 51s 29ms/step - loss: 0.0026\n",
      "Epoch 30/50\n",
      "1760/1760 [==============================] - 51s 29ms/step - loss: 0.0027\n",
      "Epoch 31/50\n",
      "1760/1760 [==============================] - 51s 29ms/step - loss: 0.0028\n",
      "Epoch 32/50\n",
      "1760/1760 [==============================] - 51s 29ms/step - loss: 0.0027\n",
      "Epoch 33/50\n",
      "1760/1760 [==============================] - 51s 29ms/step - loss: 0.0023\n",
      "Epoch 34/50\n",
      "1760/1760 [==============================] - 51s 29ms/step - loss: 0.0028\n",
      "Epoch 35/50\n",
      "1760/1760 [==============================] - 51s 29ms/step - loss: 0.0025\n",
      "Epoch 36/50\n",
      "1760/1760 [==============================] - 51s 29ms/step - loss: 0.0030\n",
      "Epoch 37/50\n",
      "1760/1760 [==============================] - 51s 29ms/step - loss: 0.0027\n",
      "Epoch 38/50\n",
      "1760/1760 [==============================] - 51s 29ms/step - loss: 0.0024\n",
      "Epoch 39/50\n",
      "1760/1760 [==============================] - 51s 29ms/step - loss: 0.0026\n",
      "Epoch 40/50\n",
      "1760/1760 [==============================] - 51s 29ms/step - loss: 0.0024\n",
      "Epoch 41/50\n",
      "1760/1760 [==============================] - 51s 29ms/step - loss: 0.0026\n",
      "Epoch 42/50\n",
      "1760/1760 [==============================] - 52s 29ms/step - loss: 0.0026\n",
      "Epoch 43/50\n",
      "1760/1760 [==============================] - 52s 29ms/step - loss: 0.0025\n",
      "Epoch 44/50\n",
      "1760/1760 [==============================] - 51s 29ms/step - loss: 0.0026\n",
      "Epoch 45/50\n",
      "1760/1760 [==============================] - 52s 30ms/step - loss: 0.0024\n",
      "Epoch 46/50\n",
      "1760/1760 [==============================] - 51s 29ms/step - loss: 0.0025\n",
      "Epoch 47/50\n",
      "1760/1760 [==============================] - 52s 29ms/step - loss: 0.0023\n",
      "Epoch 48/50\n",
      "1760/1760 [==============================] - 51s 29ms/step - loss: 0.0023\n",
      "Epoch 49/50\n",
      "1760/1760 [==============================] - 52s 30ms/step - loss: 0.0023\n",
      "Epoch 50/50\n",
      "1760/1760 [==============================] - 51s 29ms/step - loss: 0.0024\n"
     ]
    },
    {
     "data": {
      "text/plain": [
       "<keras.callbacks.History at 0x5fe368f0>"
      ]
     },
     "execution_count": 22,
     "metadata": {},
     "output_type": "execute_result"
    }
   ],
   "source": [
    "# Compiling the RNN\n",
    "regressor.compile(optimizer = 'adam', loss = 'mean_squared_error')\n",
    "\n",
    "# Fitting the RNN to the Training set\n",
    "regressor.fit(X_train, y_train, epochs = 50, batch_size = 20)"
   ]
  },
  {
   "cell_type": "code",
   "execution_count": 50,
   "metadata": {},
   "outputs": [
    {
     "data": {
      "text/html": [
       "<div>\n",
       "<style scoped>\n",
       "    .dataframe tbody tr th:only-of-type {\n",
       "        vertical-align: middle;\n",
       "    }\n",
       "\n",
       "    .dataframe tbody tr th {\n",
       "        vertical-align: top;\n",
       "    }\n",
       "\n",
       "    .dataframe thead tr th {\n",
       "        text-align: left;\n",
       "    }\n",
       "\n",
       "    .dataframe thead tr:last-of-type th {\n",
       "        text-align: right;\n",
       "    }\n",
       "</style>\n",
       "<table border=\"1\" class=\"dataframe\">\n",
       "  <thead>\n",
       "    <tr>\n",
       "      <th>Attributes</th>\n",
       "      <th>High</th>\n",
       "      <th>Low</th>\n",
       "      <th>Open</th>\n",
       "      <th>Close</th>\n",
       "      <th>Volume</th>\n",
       "      <th>Adj Close</th>\n",
       "    </tr>\n",
       "    <tr>\n",
       "      <th>Symbols</th>\n",
       "      <th>NVDA</th>\n",
       "      <th>NVDA</th>\n",
       "      <th>NVDA</th>\n",
       "      <th>NVDA</th>\n",
       "      <th>NVDA</th>\n",
       "      <th>NVDA</th>\n",
       "    </tr>\n",
       "    <tr>\n",
       "      <th>Date</th>\n",
       "      <th></th>\n",
       "      <th></th>\n",
       "      <th></th>\n",
       "      <th></th>\n",
       "      <th></th>\n",
       "      <th></th>\n",
       "    </tr>\n",
       "  </thead>\n",
       "  <tbody>\n",
       "    <tr>\n",
       "      <th>2018-01-02</th>\n",
       "      <td>199.500000</td>\n",
       "      <td>194.500000</td>\n",
       "      <td>195.779999</td>\n",
       "      <td>199.350006</td>\n",
       "      <td>8890400.0</td>\n",
       "      <td>198.590637</td>\n",
       "    </tr>\n",
       "    <tr>\n",
       "      <th>2018-01-03</th>\n",
       "      <td>213.699997</td>\n",
       "      <td>203.750000</td>\n",
       "      <td>204.100006</td>\n",
       "      <td>212.470001</td>\n",
       "      <td>22867600.0</td>\n",
       "      <td>211.660645</td>\n",
       "    </tr>\n",
       "    <tr>\n",
       "      <th>2018-01-04</th>\n",
       "      <td>218.050003</td>\n",
       "      <td>212.690002</td>\n",
       "      <td>215.759995</td>\n",
       "      <td>213.589996</td>\n",
       "      <td>14581700.0</td>\n",
       "      <td>212.776382</td>\n",
       "    </tr>\n",
       "    <tr>\n",
       "      <th>2018-01-05</th>\n",
       "      <td>216.910004</td>\n",
       "      <td>211.080002</td>\n",
       "      <td>214.190002</td>\n",
       "      <td>215.399994</td>\n",
       "      <td>14503100.0</td>\n",
       "      <td>214.579498</td>\n",
       "    </tr>\n",
       "    <tr>\n",
       "      <th>2018-01-08</th>\n",
       "      <td>225.000000</td>\n",
       "      <td>218.580002</td>\n",
       "      <td>220.399994</td>\n",
       "      <td>222.000000</td>\n",
       "      <td>22030400.0</td>\n",
       "      <td>221.154343</td>\n",
       "    </tr>\n",
       "  </tbody>\n",
       "</table>\n",
       "</div>"
      ],
      "text/plain": [
       "Attributes        High         Low        Open       Close      Volume  \\\n",
       "Symbols           NVDA        NVDA        NVDA        NVDA        NVDA   \n",
       "Date                                                                     \n",
       "2018-01-02  199.500000  194.500000  195.779999  199.350006   8890400.0   \n",
       "2018-01-03  213.699997  203.750000  204.100006  212.470001  22867600.0   \n",
       "2018-01-04  218.050003  212.690002  215.759995  213.589996  14581700.0   \n",
       "2018-01-05  216.910004  211.080002  214.190002  215.399994  14503100.0   \n",
       "2018-01-08  225.000000  218.580002  220.399994  222.000000  22030400.0   \n",
       "\n",
       "Attributes   Adj Close  \n",
       "Symbols           NVDA  \n",
       "Date                    \n",
       "2018-01-02  198.590637  \n",
       "2018-01-03  211.660645  \n",
       "2018-01-04  212.776382  \n",
       "2018-01-05  214.579498  \n",
       "2018-01-08  221.154343  "
      ]
     },
     "execution_count": 50,
     "metadata": {},
     "output_type": "execute_result"
    }
   ],
   "source": [
    "# Define the instruments to download. We would like to see Apple, Microsoft and the S&P500 index.\n",
    "ticker = ['NVDA'] #, 'MSFT', '^GSPC']\n",
    "start_date = datetime.datetime(2018,1,1)\n",
    "end_date = datetime.date.today() #datetime(2016,12,30) #date.today()\n",
    "\n",
    "# User pandas_reader.data.DataReader to load the desired data. As simple as that.\n",
    "dataset_test = data.DataReader(ticker, 'yahoo', start_date, end_date)\n",
    "\n",
    "type(dataset_test)\n",
    "\n",
    "dataset_test.head()"
   ]
  },
  {
   "cell_type": "code",
   "execution_count": 51,
   "metadata": {},
   "outputs": [],
   "source": [
    "real_stock_price = dataset_test.iloc[:, 1:2].values"
   ]
  },
  {
   "cell_type": "code",
   "execution_count": 43,
   "metadata": {},
   "outputs": [
    {
     "data": {
      "text/html": [
       "<div>\n",
       "<style scoped>\n",
       "    .dataframe tbody tr th:only-of-type {\n",
       "        vertical-align: middle;\n",
       "    }\n",
       "\n",
       "    .dataframe tbody tr th {\n",
       "        vertical-align: top;\n",
       "    }\n",
       "\n",
       "    .dataframe thead tr th {\n",
       "        text-align: left;\n",
       "    }\n",
       "\n",
       "    .dataframe thead tr:last-of-type th {\n",
       "        text-align: right;\n",
       "    }\n",
       "</style>\n",
       "<table border=\"1\" class=\"dataframe\">\n",
       "  <thead>\n",
       "    <tr>\n",
       "      <th>Attributes</th>\n",
       "      <th>High</th>\n",
       "      <th>Low</th>\n",
       "      <th>Open</th>\n",
       "      <th>Close</th>\n",
       "      <th>Volume</th>\n",
       "      <th>Adj Close</th>\n",
       "    </tr>\n",
       "    <tr>\n",
       "      <th>Symbols</th>\n",
       "      <th>NVDA</th>\n",
       "      <th>NVDA</th>\n",
       "      <th>NVDA</th>\n",
       "      <th>NVDA</th>\n",
       "      <th>NVDA</th>\n",
       "      <th>NVDA</th>\n",
       "    </tr>\n",
       "    <tr>\n",
       "      <th>Date</th>\n",
       "      <th></th>\n",
       "      <th></th>\n",
       "      <th></th>\n",
       "      <th></th>\n",
       "      <th></th>\n",
       "      <th></th>\n",
       "    </tr>\n",
       "  </thead>\n",
       "  <tbody>\n",
       "    <tr>\n",
       "      <th>2017-01-03</th>\n",
       "      <td>106.370003</td>\n",
       "      <td>99.379997</td>\n",
       "      <td>104.400002</td>\n",
       "      <td>102.010002</td>\n",
       "      <td>37549900.0</td>\n",
       "      <td>101.227043</td>\n",
       "    </tr>\n",
       "    <tr>\n",
       "      <th>2017-01-04</th>\n",
       "      <td>105.500000</td>\n",
       "      <td>101.529999</td>\n",
       "      <td>103.400002</td>\n",
       "      <td>104.389999</td>\n",
       "      <td>29980500.0</td>\n",
       "      <td>103.588776</td>\n",
       "    </tr>\n",
       "    <tr>\n",
       "      <th>2017-01-05</th>\n",
       "      <td>105.820000</td>\n",
       "      <td>101.050003</td>\n",
       "      <td>104.529999</td>\n",
       "      <td>101.739998</td>\n",
       "      <td>24607400.0</td>\n",
       "      <td>100.959106</td>\n",
       "    </tr>\n",
       "    <tr>\n",
       "      <th>2017-01-06</th>\n",
       "      <td>104.250000</td>\n",
       "      <td>101.199997</td>\n",
       "      <td>102.849998</td>\n",
       "      <td>103.099998</td>\n",
       "      <td>20571400.0</td>\n",
       "      <td>102.308678</td>\n",
       "    </tr>\n",
       "    <tr>\n",
       "      <th>2017-01-09</th>\n",
       "      <td>108.000000</td>\n",
       "      <td>103.500000</td>\n",
       "      <td>103.500000</td>\n",
       "      <td>107.279999</td>\n",
       "      <td>22857700.0</td>\n",
       "      <td>106.456596</td>\n",
       "    </tr>\n",
       "  </tbody>\n",
       "</table>\n",
       "</div>"
      ],
      "text/plain": [
       "Attributes        High         Low        Open       Close      Volume  \\\n",
       "Symbols           NVDA        NVDA        NVDA        NVDA        NVDA   \n",
       "Date                                                                     \n",
       "2017-01-03  106.370003   99.379997  104.400002  102.010002  37549900.0   \n",
       "2017-01-04  105.500000  101.529999  103.400002  104.389999  29980500.0   \n",
       "2017-01-05  105.820000  101.050003  104.529999  101.739998  24607400.0   \n",
       "2017-01-06  104.250000  101.199997  102.849998  103.099998  20571400.0   \n",
       "2017-01-09  108.000000  103.500000  103.500000  107.279999  22857700.0   \n",
       "\n",
       "Attributes   Adj Close  \n",
       "Symbols           NVDA  \n",
       "Date                    \n",
       "2017-01-03  101.227043  \n",
       "2017-01-04  103.588776  \n",
       "2017-01-05  100.959106  \n",
       "2017-01-06  102.308678  \n",
       "2017-01-09  106.456596  "
      ]
     },
     "execution_count": 43,
     "metadata": {},
     "output_type": "execute_result"
    }
   ],
   "source": [
    "dataset_test.head()"
   ]
  },
  {
   "cell_type": "code",
   "execution_count": 44,
   "metadata": {},
   "outputs": [
    {
     "name": "stdout",
     "output_type": "stream",
     "text": [
      "<class 'pandas.core.frame.DataFrame'>\n",
      "DatetimeIndex: 1820 entries, 2012-01-03 to 2019-03-28\n",
      "Data columns (total 1 columns):\n",
      "NVDA    1820 non-null float64\n",
      "dtypes: float64(1)\n",
      "memory usage: 28.4 KB\n"
     ]
    }
   ],
   "source": [
    "#check column  matching between training_set and test_set\n",
    "training_set.info()"
   ]
  },
  {
   "cell_type": "code",
   "execution_count": 52,
   "metadata": {
    "scrolled": true
   },
   "outputs": [],
   "source": [
    "test_set=dataset_test['Open']\n",
    "test_set=pd.DataFrame(test_set)"
   ]
  },
  {
   "cell_type": "code",
   "execution_count": 53,
   "metadata": {
    "scrolled": false
   },
   "outputs": [
    {
     "name": "stdout",
     "output_type": "stream",
     "text": [
      "<class 'pandas.core.frame.DataFrame'>\n",
      "DatetimeIndex: 311 entries, 2018-01-02 to 2019-03-28\n",
      "Data columns (total 6 columns):\n",
      "(High, NVDA)         311 non-null float64\n",
      "(Low, NVDA)          311 non-null float64\n",
      "(Open, NVDA)         311 non-null float64\n",
      "(Close, NVDA)        311 non-null float64\n",
      "(Volume, NVDA)       311 non-null float64\n",
      "(Adj Close, NVDA)    311 non-null float64\n",
      "dtypes: float64(6)\n",
      "memory usage: 17.0 KB\n",
      "<class 'pandas.core.frame.DataFrame'>\n",
      "DatetimeIndex: 311 entries, 2018-01-02 to 2019-03-28\n",
      "Data columns (total 1 columns):\n",
      "NVDA    311 non-null float64\n",
      "dtypes: float64(1)\n",
      "memory usage: 4.9 KB\n"
     ]
    }
   ],
   "source": [
    "dataset_test.info()\n",
    "test_set.info()"
   ]
  },
  {
   "cell_type": "code",
   "execution_count": 54,
   "metadata": {},
   "outputs": [],
   "source": [
    "\n",
    "# Getting the predicted stock price\n",
    "dataset_total = pd.concat((dataset['Open'], dataset_test['Open']), axis = 0)\n",
    "inputs = dataset_total[len(dataset_total) - len(dataset_test) - 60:].values\n",
    "inputs = inputs.reshape(-1,1)\n",
    "inputs = sc.transform(inputs)\n",
    "X_test = []\n",
    "\n",
    "for i in range(60, 371):  ## maximum range depends on test_set entries, e.g. 776 + 60 = 332\n",
    "    X_test.append(inputs[i-60:i, 0])\n",
    "X_test = np.array(X_test)\n",
    "X_test = np.reshape(X_test, (X_test.shape[0], X_test.shape[1], 1))\n",
    "predicted_stock_price = regressor.predict(X_test)\n",
    "predicted_stock_price = sc.inverse_transform(predicted_stock_price)\n"
   ]
  },
  {
   "cell_type": "code",
   "execution_count": 55,
   "metadata": {},
   "outputs": [
    {
     "name": "stdout",
     "output_type": "stream",
     "text": [
      "<class 'pandas.core.frame.DataFrame'>\n",
      "RangeIndex: 311 entries, 0 to 310\n",
      "Data columns (total 1 columns):\n",
      "0    311 non-null float32\n",
      "dtypes: float32(1)\n",
      "memory usage: 1.3 KB\n"
     ]
    }
   ],
   "source": [
    "predicted_stock_price=pd.DataFrame(predicted_stock_price)\n",
    "predicted_stock_price.info()"
   ]
  },
  {
   "cell_type": "code",
   "execution_count": 56,
   "metadata": {},
   "outputs": [
    {
     "data": {
      "image/png": "[encoded data removed]",
      "text/plain": [
       "<Figure size 432x288 with 1 Axes>"
      ]
     },
     "metadata": {
      "needs_background": "light"
     },
     "output_type": "display_data"
    }
   ],
   "source": [
    "# Visualising the results\n",
    "plt.plot(real_stock_price, color = 'red', label = 'Real Stock Price')\n",
    "plt.plot(predicted_stock_price, color = 'blue', label = 'Predicted Stock Price')\n",
    "plt.title('Stock Price Prediction')\n",
    "plt.xlabel('Time')\n",
    "plt.ylabel('Stock Price')\n",
    "plt.legend()\n",
    "plt.show()\n"
   ]
  }
 ],
 "metadata": {
  "kernelspec": {
   "display_name": "Python 3",
   "language": "python",
   "name": "python3"
  },
  "language_info": {
   "codemirror_mode": {
    "name": "ipython",
    "version": 3
   },
   "file_extension": ".py",
   "mimetype": "text/x-python",
   "name": "python",
   "nbconvert_exporter": "python",
   "pygments_lexer": "ipython3",
   "version": "3.5.3"
  }
 },
 "nbformat": 4,
 "nbformat_minor": 2
}
